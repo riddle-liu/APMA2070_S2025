{
 "cells": [
  {
   "cell_type": "markdown",
   "metadata": {},
   "source": [
    "## Programming model"
   ]
  },
  {
   "cell_type": "markdown",
   "metadata": {},
   "source": [
    "#### Babylonian method square root\n",
    "Compute $\\sqrt{x}$.\n",
    "##### How?\n",
    "Continue $ s \\leftarrow (s + x /s) / 2 $ till $ s \\rightarrow \\sqrt{x}$."
   ]
  },
  {
   "cell_type": "code",
   "execution_count": 1,
   "metadata": {},
   "outputs": [
    {
     "name": "stdout",
     "output_type": "stream",
     "text": [
      "Sqrt from Babylonian Approach: 1.414213562373095\n",
      "Sqrt from NumPy Approach is: 1.4142135623730951\n"
     ]
    }
   ],
   "source": [
    "### Python routine for implementation of Babylonian apporach\n",
    "\n",
    "import numpy as np\n",
    "\n",
    "def babylon(x, N):\n",
    "    s = (1.0 + x)/2.0\n",
    "    for i in range(1, N):\n",
    "        s = (s + x/s) / 2.0\n",
    "    return s\n",
    "\n",
    "x = 2.0\n",
    "print(f\"Sqrt from Babylonian Approach: {babylon(x, 10)}\")\n",
    "print(f\"Sqrt from NumPy Approach is: {np.sqrt(x)}\")"
   ]
  },
  {
   "cell_type": "code",
   "execution_count": 3,
   "metadata": {},
   "outputs": [
    {
     "name": "stdout",
     "output_type": "stream",
     "text": [
      "value of sqrt(x) is : 1.414213562373095\n",
      "Derivative of sqrt(x) is: 0.35355339059327373\n",
      "Analytical derivative of sqrt(x) is: 0.35355339059327373\n"
     ]
    }
   ],
   "source": [
    "### Python routine for differentiations of Babylonian routine\n",
    "\n",
    "def diff_babylonian(x, N):\n",
    "    s = (1.0 + x)/2.0\n",
    "    s_prime = 1.0/ 2.0\n",
    "    for i in range(1, N):\n",
    "        s = (s + x/s) / 2.0\n",
    "        s_prime = (1/2.0)*(s_prime + (s - x * s_prime)/(s**2))\n",
    "    return s, s_prime\n",
    "\n",
    "s, s_prime = diff_babylonian(2, 10)\n",
    "\n",
    "print(f\"value of sqrt(x) is : {s}\")\n",
    "print(f\"Derivative of sqrt(x) is: {s_prime}\")\n",
    "print(f\"Analytical derivative of sqrt(x) is: {0.5 *1/np.sqrt(2)}\")\n"
   ]
  },
  {
   "cell_type": "code",
   "execution_count": 9,
   "metadata": {},
   "outputs": [
    {
     "name": "stdout",
     "output_type": "stream",
     "text": [
      "Requirement already satisfied: sympy in /Users/raj/opt/anaconda3/lib/python3.8/site-packages (1.8)\n",
      "Requirement already satisfied: mpmath>=0.19 in /Users/raj/opt/anaconda3/lib/python3.8/site-packages (from sympy) (1.2.1)\n",
      "\u001b[33mWARNING: You are using pip version 22.0.4; however, version 22.3.1 is available.\n",
      "You should consider upgrading via the '/Users/raj/opt/anaconda3/bin/python -m pip install --upgrade pip' command.\u001b[0m\u001b[33m\n",
      "\u001b[0m"
     ]
    }
   ],
   "source": [
    "!pip install sympy"
   ]
  },
  {
   "cell_type": "code",
   "execution_count": 2,
   "metadata": {},
   "outputs": [
    {
     "name": "stdout",
     "output_type": "stream",
     "text": [
      "Symbolic for Function Evaluation\n",
      "0.5*x + 0.5\n",
      "0.5*x + 0.5\n",
      "0.25*x + 1.0*x/(x + 1) + 0.25\n",
      "(0.015625*x**4 + 0.4375*x**3 + 1.09375*x**2 + 0.4375*x + 0.015625)/(0.125*x**3 + 0.875*x**2 + 0.875*x + 0.125)\n",
      "(6.103515625e-5*x**8 + 0.00732421875*x**7 + 0.111083984375*x**6 + 0.48876953125*x**5 + 0.7855224609375*x**4 + 0.48876953125*x**3 + 0.111083984375*x**2 + 0.00732421875*x + 6.103515625e-5)/(0.0009765625*x**7 + 0.0341796875*x**6 + 0.2666015625*x**5 + 0.6982421875*x**4 + 0.6982421875*x**3 + 0.2666015625*x**2 + 0.0341796875*x + 0.0009765625)\n",
      "***********+++++++***********\n",
      "***********+++++++***********\n",
      "***********+++++++***********\n",
      "Symbolic for Derivative Evaluation\n",
      "(3.72529029846191e-9*x**20 + 3.87430191040039e-7*x**19 + 2.16737389564514e-5*x**18 + 0.000664353370666504*x**17 + 0.0112408436834812*x**16 + 0.115458369255066*x**15 + 0.761909335851669*x**14 + 3.33969330787659*x**13 + 9.95655024796724*x**12 + 20.4859389662743*x**11 + 29.3279034942389*x**10 + 29.3301267623901*x**9 + 20.4844993725419*x**8 + 9.95705211162567*x**7 + 3.33972844481468*x**6 + 0.761770963668823*x**5 + 0.11552881076932*x**4 + 0.0112256109714508*x**3 + 0.000664331018924713*x**2 + 2.22921371459961e-5*x + 3.16649675369263e-7)/(5.96046447753906e-8*x**20 + 6.19888305664063e-6*x**19 + 0.000261664390563965*x**18 + 0.00583887100219727*x**17 + 0.0763652920722961*x**16 + 0.625497817993164*x**15 + 3.35175752639771*x**14 + 12.0893878936768*x**13 + 29.8995410203934*x**12 + 51.2792692184448*x**11 + 61.3441488742828*x**10 + 51.2792692184448*x**9 + 29.8995410203934*x**8 + 12.0893878936768*x**7 + 3.35175752639771*x**6 + 0.625497817993164*x**5 + 0.0763652920722961*x**4 + 0.00583887100219727*x**3 + 0.000261664390563965*x**2 + 6.19888305664063e-6*x + 5.96046447753906e-8)\n",
      "(3.72529029846191e-9*x**20 + 3.87430191040039e-7*x**19 + 2.16737389564514e-5*x**18 + 0.000664353370666504*x**17 + 0.0112408436834812*x**16 + 0.115458369255066*x**15 + 0.761909335851669*x**14 + 3.33969330787659*x**13 + 9.95655024796724*x**12 + 20.4859389662743*x**11 + 29.3279034942389*x**10 + 29.3301267623901*x**9 + 20.4844993725419*x**8 + 9.95705211162567*x**7 + 3.33972844481468*x**6 + 0.761770963668823*x**5 + 0.11552881076932*x**4 + 0.0112256109714508*x**3 + 0.000664331018924713*x**2 + 2.22921371459961e-5*x + 3.16649675369263e-7)/(5.96046447753906e-8*x**20 + 6.19888305664063e-6*x**19 + 0.000261664390563965*x**18 + 0.00583887100219727*x**17 + 0.0763652920722961*x**16 + 0.625497817993164*x**15 + 3.35175752639771*x**14 + 12.0893878936768*x**13 + 29.8995410203934*x**12 + 51.2792692184448*x**11 + 61.3441488742828*x**10 + 51.2792692184448*x**9 + 29.8995410203934*x**8 + 12.0893878936768*x**7 + 3.35175752639771*x**6 + 0.625497817993164*x**5 + 0.0763652920722961*x**4 + 0.00583887100219727*x**3 + 0.000261664390563965*x**2 + 6.19888305664063e-6*x + 5.96046447753906e-8)\n",
      "(3.72529029846191e-9*x**20 + 3.87430191040039e-7*x**19 + 2.16737389564514e-5*x**18 + 0.000664353370666504*x**17 + 0.0112408436834812*x**16 + 0.115458369255066*x**15 + 0.761909335851669*x**14 + 3.33969330787659*x**13 + 9.95655024796724*x**12 + 20.4859389662743*x**11 + 29.3279034942389*x**10 + 29.3301267623901*x**9 + 20.4844993725419*x**8 + 9.95705211162567*x**7 + 3.33972844481468*x**6 + 0.761770963668823*x**5 + 0.11552881076932*x**4 + 0.0112256109714508*x**3 + 0.000664331018924713*x**2 + 2.22921371459961e-5*x + 3.16649675369263e-7)/(5.96046447753906e-8*x**20 + 6.19888305664063e-6*x**19 + 0.000261664390563965*x**18 + 0.00583887100219727*x**17 + 0.0763652920722961*x**16 + 0.625497817993164*x**15 + 3.35175752639771*x**14 + 12.0893878936768*x**13 + 29.8995410203934*x**12 + 51.2792692184448*x**11 + 61.3441488742828*x**10 + 51.2792692184448*x**9 + 29.8995410203934*x**8 + 12.0893878936768*x**7 + 3.35175752639771*x**6 + 0.625497817993164*x**5 + 0.0763652920722961*x**4 + 0.00583887100219727*x**3 + 0.000261664390563965*x**2 + 6.19888305664063e-6*x + 5.96046447753906e-8)\n",
      "(3.72529029846191e-9*x**20 + 3.87430191040039e-7*x**19 + 2.16737389564514e-5*x**18 + 0.000664353370666504*x**17 + 0.0112408436834812*x**16 + 0.115458369255066*x**15 + 0.761909335851669*x**14 + 3.33969330787659*x**13 + 9.95655024796724*x**12 + 20.4859389662743*x**11 + 29.3279034942389*x**10 + 29.3301267623901*x**9 + 20.4844993725419*x**8 + 9.95705211162567*x**7 + 3.33972844481468*x**6 + 0.761770963668823*x**5 + 0.11552881076932*x**4 + 0.0112256109714508*x**3 + 0.000664331018924713*x**2 + 2.22921371459961e-5*x + 3.16649675369263e-7)/(5.96046447753906e-8*x**20 + 6.19888305664063e-6*x**19 + 0.000261664390563965*x**18 + 0.00583887100219727*x**17 + 0.0763652920722961*x**16 + 0.625497817993164*x**15 + 3.35175752639771*x**14 + 12.0893878936768*x**13 + 29.8995410203934*x**12 + 51.2792692184448*x**11 + 61.3441488742828*x**10 + 51.2792692184448*x**9 + 29.8995410203934*x**8 + 12.0893878936768*x**7 + 3.35175752639771*x**6 + 0.625497817993164*x**5 + 0.0763652920722961*x**4 + 0.00583887100219727*x**3 + 0.000261664390563965*x**2 + 6.19888305664063e-6*x + 5.96046447753906e-8)\n",
      "(3.72529029846191e-9*x**20 + 3.87430191040039e-7*x**19 + 2.16737389564514e-5*x**18 + 0.000664353370666504*x**17 + 0.0112408436834812*x**16 + 0.115458369255066*x**15 + 0.761909335851669*x**14 + 3.33969330787659*x**13 + 9.95655024796724*x**12 + 20.4859389662743*x**11 + 29.3279034942389*x**10 + 29.3301267623901*x**9 + 20.4844993725419*x**8 + 9.95705211162567*x**7 + 3.33972844481468*x**6 + 0.761770963668823*x**5 + 0.11552881076932*x**4 + 0.0112256109714508*x**3 + 0.000664331018924713*x**2 + 2.22921371459961e-5*x + 3.16649675369263e-7)/(5.96046447753906e-8*x**20 + 6.19888305664063e-6*x**19 + 0.000261664390563965*x**18 + 0.00583887100219727*x**17 + 0.0763652920722961*x**16 + 0.625497817993164*x**15 + 3.35175752639771*x**14 + 12.0893878936768*x**13 + 29.8995410203934*x**12 + 51.2792692184448*x**11 + 61.3441488742828*x**10 + 51.2792692184448*x**9 + 29.8995410203934*x**8 + 12.0893878936768*x**7 + 3.35175752639771*x**6 + 0.625497817993164*x**5 + 0.0763652920722961*x**4 + 0.00583887100219727*x**3 + 0.000261664390563965*x**2 + 6.19888305664063e-6*x + 5.96046447753906e-8)\n"
     ]
    }
   ],
   "source": [
    "import sympy as sp\n",
    "x = sp.symbols(\"x\")\n",
    "\n",
    "# Symbolic for Function Evaluation\n",
    "print(\"Symbolic for Function Evaluation\")\n",
    "for i in range(0, 5):\n",
    "    print(sp.simplify(babylon(x, i)))\n",
    "\n",
    "print(\"***********+++++++***********\")\n",
    "print(\"***********+++++++***********\")\n",
    "print(\"***********+++++++***********\")\n",
    "print(\"Symbolic for Derivative Evaluation\")\n",
    "for j in range(0, 5):\n",
    "    print(sp.simplify(sp.simplify(sp.diff(babylon(x, i)))))"
   ]
  },
  {
   "cell_type": "code",
   "execution_count": 4,
   "metadata": {},
   "outputs": [
    {
     "ename": "TypeError",
     "evalue": "cannot determine truth value of Relational",
     "output_type": "error",
     "traceback": [
      "\u001b[0;31m---------------------------------------------------------------------------\u001b[0m",
      "\u001b[0;31mTypeError\u001b[0m                                 Traceback (most recent call last)",
      "\u001b[0;32m<ipython-input-4-9c43b7b658e1>\u001b[0m in \u001b[0;36m<module>\u001b[0;34m\u001b[0m\n\u001b[1;32m      9\u001b[0m \u001b[0;34m\u001b[0m\u001b[0m\n\u001b[1;32m     10\u001b[0m \u001b[0mx\u001b[0m \u001b[0;34m=\u001b[0m \u001b[0msymbols\u001b[0m\u001b[0;34m(\u001b[0m\u001b[0;34m\"x\"\u001b[0m\u001b[0;34m)\u001b[0m\u001b[0;34m\u001b[0m\u001b[0;34m\u001b[0m\u001b[0m\n\u001b[0;32m---> 11\u001b[0;31m \u001b[0mdfdx\u001b[0m \u001b[0;34m=\u001b[0m \u001b[0mdiff\u001b[0m\u001b[0;34m(\u001b[0m\u001b[0mf\u001b[0m\u001b[0;34m(\u001b[0m\u001b[0mx\u001b[0m\u001b[0;34m)\u001b[0m\u001b[0;34m)\u001b[0m\u001b[0;34m\u001b[0m\u001b[0;34m\u001b[0m\u001b[0m\n\u001b[0m\u001b[1;32m     12\u001b[0m \u001b[0mprint\u001b[0m\u001b[0;34m(\u001b[0m\u001b[0mdfdx\u001b[0m\u001b[0;34m)\u001b[0m\u001b[0;34m\u001b[0m\u001b[0;34m\u001b[0m\u001b[0m\n",
      "\u001b[0;32m<ipython-input-4-9c43b7b658e1>\u001b[0m in \u001b[0;36mf\u001b[0;34m(x)\u001b[0m\n\u001b[1;32m      4\u001b[0m \u001b[0;34m\u001b[0m\u001b[0m\n\u001b[1;32m      5\u001b[0m \u001b[0;32mdef\u001b[0m \u001b[0mf\u001b[0m\u001b[0;34m(\u001b[0m\u001b[0mx\u001b[0m\u001b[0;34m)\u001b[0m\u001b[0;34m:\u001b[0m\u001b[0;34m\u001b[0m\u001b[0;34m\u001b[0m\u001b[0m\n\u001b[0;32m----> 6\u001b[0;31m     \u001b[0;32mif\u001b[0m \u001b[0mx\u001b[0m \u001b[0;34m>\u001b[0m \u001b[0;36m2\u001b[0m\u001b[0;34m:\u001b[0m\u001b[0;34m\u001b[0m\u001b[0;34m\u001b[0m\u001b[0m\n\u001b[0m\u001b[1;32m      7\u001b[0m         \u001b[0;32mreturn\u001b[0m \u001b[0mx\u001b[0m \u001b[0;34m*\u001b[0m \u001b[0;36m2\u001b[0m \u001b[0;34m+\u001b[0m \u001b[0;36m5\u001b[0m\u001b[0;34m\u001b[0m\u001b[0;34m\u001b[0m\u001b[0m\n\u001b[1;32m      8\u001b[0m     \u001b[0;32mreturn\u001b[0m \u001b[0mx\u001b[0m \u001b[0;34m/\u001b[0m \u001b[0;36m2\u001b[0m \u001b[0;34m+\u001b[0m \u001b[0;36m5\u001b[0m\u001b[0;34m\u001b[0m\u001b[0;34m\u001b[0m\u001b[0m\n",
      "\u001b[0;32m~/opt/anaconda3/lib/python3.8/site-packages/sympy/core/relational.py\u001b[0m in \u001b[0;36m__bool__\u001b[0;34m(self)\u001b[0m\n\u001b[1;32m    396\u001b[0m \u001b[0;34m\u001b[0m\u001b[0m\n\u001b[1;32m    397\u001b[0m     \u001b[0;32mdef\u001b[0m \u001b[0m__bool__\u001b[0m\u001b[0;34m(\u001b[0m\u001b[0mself\u001b[0m\u001b[0;34m)\u001b[0m\u001b[0;34m:\u001b[0m\u001b[0;34m\u001b[0m\u001b[0;34m\u001b[0m\u001b[0m\n\u001b[0;32m--> 398\u001b[0;31m         \u001b[0;32mraise\u001b[0m \u001b[0mTypeError\u001b[0m\u001b[0;34m(\u001b[0m\u001b[0;34m\"cannot determine truth value of Relational\"\u001b[0m\u001b[0;34m)\u001b[0m\u001b[0;34m\u001b[0m\u001b[0;34m\u001b[0m\u001b[0m\n\u001b[0m\u001b[1;32m    399\u001b[0m \u001b[0;34m\u001b[0m\u001b[0m\n\u001b[1;32m    400\u001b[0m     \u001b[0;32mdef\u001b[0m \u001b[0m_eval_as_set\u001b[0m\u001b[0;34m(\u001b[0m\u001b[0mself\u001b[0m\u001b[0;34m)\u001b[0m\u001b[0;34m:\u001b[0m\u001b[0;34m\u001b[0m\u001b[0;34m\u001b[0m\u001b[0m\n",
      "\u001b[0;31mTypeError\u001b[0m: cannot determine truth value of Relational"
     ]
    }
   ],
   "source": [
    "#Can not deal with Conditinals\n",
    "\n",
    "from sympy import symbols, diff\n",
    "def f(x):\n",
    "    if x > 2:\n",
    "        return x * 2 + 5\n",
    "    return x / 2 + 5\n",
    "\n",
    "x = symbols(\"x\")\n",
    "dfdx = diff(f(x))\n",
    "print(dfdx)"
   ]
  },
  {
   "cell_type": "markdown",
   "metadata": {},
   "source": [
    "## Dual Numbers"
   ]
  },
  {
   "cell_type": "markdown",
   "metadata": {},
   "source": [
    "### Addition rule\n",
    "$$\n",
    "h(x) = f(x) + g(x)\n",
    "$$\n",
    "$$\n",
    "h'(x) = f'(x) + g'(x)\n",
    "$$\n",
    "\n",
    "\n",
    "### Product rule\n",
    "$$\n",
    "h(x) = f(x)*g(x)\n",
    "$$\n",
    "\n",
    "$$\n",
    "h'(x) = f'(x)*g(x) + g'(x)f(x)\n",
    "$$\n",
    "\n",
    "### Quotient rule\n",
    "$$\n",
    "h(x) = \\frac{f(x)}{g(x)}\n",
    "$$\n",
    "$$\n",
    "h'(x) = \\frac{g(x)f'(x) -f(x)g'(x)}{g(x)^2}\n",
    "$$\n",
    "\n",
    "### Chain rule\n",
    "$$\n",
    "f(x) = g(h(x))\n",
    "$$\n",
    "\n",
    "$$\n",
    "f'(x) = g'(h(x))h'(x)\n",
    "$$\n",
    "\n",
    "Consider $f(x) = \\sin(h(x))$\n",
    "$$\n",
    "\\frac{\\rm d}{\\rm dx} \\sin(h(x)) = \\cos(h(x))\\frac{\\rm dh}{\\rm dx}\n",
    "$$"
   ]
  },
  {
   "cell_type": "code",
   "execution_count": 6,
   "metadata": {},
   "outputs": [],
   "source": [
    "from math import sin, cos\n",
    "\n",
    "class Dual(object):\n",
    "    def __init__(self, x, ϵ=1):\n",
    "        self.x = x\n",
    "        self.ϵ = ϵ\n",
    "        \n",
    "    def __str__(self):\n",
    "        return str(self.x) + \" + \" + str(self.ϵ) + \"ϵ\"\n",
    "    \n",
    "    def __mul__(self, d):\n",
    "        return Dual(self.x * d.x, self.x*d.ϵ + d.x*self.ϵ)\n",
    "    \n",
    "    def __add__(self, d):\n",
    "        return Dual(self.x + d.x, self.ϵ + d.ϵ)\n",
    "    \n",
    "    def __truediv__(self, d):\n",
    "        return Dual(self.x/d.x, ((d.x *self.ϵ - d.ϵ * self.x )/d.x**2))\n",
    "    \n",
    "    def d_sin(self):\n",
    "        return Dual(sin(self.x), cos(self.x)*self.ϵ)"
   ]
  },
  {
   "cell_type": "code",
   "execution_count": 10,
   "metadata": {},
   "outputs": [
    {
     "name": "stdout",
     "output_type": "stream",
     "text": [
      "5 + 1ϵ\n",
      "20 + 9ϵ\n"
     ]
    }
   ],
   "source": [
    "# Addition\n",
    "D=Dual(2,1) + Dual(3, 0)  ### For f(x)=x+3 @ x=2\n",
    "print(D)\n",
    "\n",
    "# multiplication # f(x) = (x + 3) * (x + 2) @x=2\n",
    "D = (Dual(2, 1) + Dual(3, 0)) * (Dual(2,1) + Dual(2, 0)) \n",
    "print(D)"
   ]
  },
  {
   "cell_type": "markdown",
   "metadata": {},
   "source": [
    "<div>\n",
    "<img src=\"https://discuss.pytorch.org/uploads/default/original/2X/3/35226d9fbc661ced1c5d17e374638389178c3176.png\" width=\"500\" style=\"margin: 55px auto; display: block; position: relative; left: -30px;\" />\n",
    "</div>\n",
    "\n",
    "<!--NAVIGATION-->\n",
    "# PyTorch Primer | [TensorFlow Primer](2-tf.ipynb) |  [PyTorch vs TensorFlow](3-pytorch_vs_tf.ipynb) |  [JAX](4-jax.ipynb)"
   ]
  },
  {
   "cell_type": "markdown",
   "metadata": {},
   "source": [
    "## Submodule -1.4 : A Primer on PyTorch and Tensorflow"
   ]
  },
  {
   "cell_type": "markdown",
   "metadata": {},
   "source": [
    "## Table of Contents\n",
    "\n",
    "#### 1. [Installation](#Building-PyTorch-and-TensorFlow)\n",
    "#### 2. [Visualizing graph based computation](#Cosntruct-the-Graph-(Tree)-of-following-expressions)\n",
    "#### 3. [Basics of PyTorch](#Basics-of-PyTorch)\n",
    "#### 4. [Automatic Differentiation](#Automatic-Differentiation)\n",
    "#### 5. [Function Approximations](#Function-Approximations)\n"
   ]
  },
  {
   "cell_type": "markdown",
   "metadata": {},
   "source": [
    "# Building PyTorch and TensorFlow"
   ]
  },
  {
   "cell_type": "markdown",
   "metadata": {},
   "source": [
    "### Install PyTorch"
   ]
  },
  {
   "cell_type": "code",
   "execution_count": 2,
   "metadata": {},
   "outputs": [],
   "source": [
    "!pip3 install torch torchvision torchaudio"
   ]
  },
  {
   "cell_type": "markdown",
   "metadata": {},
   "source": [
    "### Install TensorFlow2"
   ]
  },
  {
   "cell_type": "code",
   "execution_count": null,
   "metadata": {},
   "outputs": [],
   "source": [
    "!pip3 install tensorflow"
   ]
  },
  {
   "cell_type": "markdown",
   "metadata": {},
   "source": [
    "### Packages in current environment"
   ]
  },
  {
   "cell_type": "code",
   "execution_count": 4,
   "metadata": {},
   "outputs": [],
   "source": [
    "#!pip freeze\n"
   ]
  },
  {
   "cell_type": "code",
   "execution_count": 8,
   "metadata": {},
   "outputs": [],
   "source": [
    "#!pip install graphviz\n",
    "#!pip install seaborn\n"
   ]
  },
  {
   "cell_type": "code",
   "execution_count": 1,
   "metadata": {},
   "outputs": [],
   "source": [
    "# Import the things we need to plot\n",
    "import matplotlib.pyplot as plt\n",
    "%matplotlib inline\n",
    "import seaborn as sns\n",
    "sns.set_context('talk')"
   ]
  },
  {
   "cell_type": "markdown",
   "metadata": {},
   "source": [
    "## Readings\n",
    "\n",
    "+ These notes.\n",
    "\n",
    "+ [Conceptual Programming with Python By Thorsten Altenkirch and Isaac Triguero](https://www.lulu.com/en/gb/shop/isaac-triguero-and-thorsten-altenkirch/conceptual-programming-with-python/paperback/product-1e4re5rj.html?page=1&pageSize=4)\n"
   ]
  },
  {
   "cell_type": "markdown",
   "metadata": {},
   "source": [
    "# Cosntruct the Graph (Tree) of following expressions\n",
    "\n",
    "Evaluate following expressions by designing the premitives\n",
    "$$\n",
    "ex1: 3*(y + x)\n",
    "$$\n",
    "\n",
    "and\n",
    "$$\n",
    "ex2: 3*y + x\n",
    "$$"
   ]
  },
  {
   "cell_type": "markdown",
   "metadata": {},
   "source": [
    "###### Cosntruct the Graph (Tree) of above expressions"
   ]
  },
  {
   "cell_type": "code",
   "execution_count": 11,
   "metadata": {},
   "outputs": [
    {
     "name": "stdout",
     "output_type": "stream",
     "text": [
      "8*(y+x)\n"
     ]
    },
    {
     "data": {
      "image/svg+xml": [
       "<?xml version=\"1.0\" encoding=\"UTF-8\" standalone=\"no\"?>\n",
       "<!DOCTYPE svg PUBLIC \"-//W3C//DTD SVG 1.1//EN\"\n",
       " \"http://www.w3.org/Graphics/SVG/1.1/DTD/svg11.dtd\">\n",
       "<!-- Generated by graphviz version 12.0.0 (20240704.0754)\n",
       " -->\n",
       "<!-- Title: ex1 Pages: 1 -->\n",
       "<svg width=\"170pt\" height=\"188pt\"\n",
       " viewBox=\"0.00 0.00 170.00 188.00\" xmlns=\"http://www.w3.org/2000/svg\" xmlns:xlink=\"http://www.w3.org/1999/xlink\">\n",
       "<g id=\"graph0\" class=\"graph\" transform=\"scale(1 1) rotate(0) translate(4 184)\">\n",
       "<title>ex1</title>\n",
       "<polygon fill=\"white\" stroke=\"none\" points=\"-4,4 -4,-184 166,-184 166,4 -4,4\"/>\n",
       "<!-- * -->\n",
       "<g id=\"node1\" class=\"node\">\n",
       "<title>*</title>\n",
       "<ellipse fill=\"none\" stroke=\"black\" cx=\"99\" cy=\"-162\" rx=\"27\" ry=\"18\"/>\n",
       "<text text-anchor=\"middle\" x=\"99\" y=\"-156.95\" font-family=\"Times,serif\" font-size=\"14.00\">*</text>\n",
       "</g>\n",
       "<!-- + -->\n",
       "<g id=\"node2\" class=\"node\">\n",
       "<title>+</title>\n",
       "<ellipse fill=\"none\" stroke=\"black\" cx=\"63\" cy=\"-90\" rx=\"27\" ry=\"18\"/>\n",
       "<text text-anchor=\"middle\" x=\"63\" y=\"-84.95\" font-family=\"Times,serif\" font-size=\"14.00\">+</text>\n",
       "</g>\n",
       "<!-- *&#45;&gt;+ -->\n",
       "<g id=\"edge2\" class=\"edge\">\n",
       "<title>*&#45;&gt;+</title>\n",
       "<path fill=\"none\" stroke=\"black\" d=\"M90.65,-144.76C86.42,-136.55 81.19,-126.37 76.42,-117.09\"/>\n",
       "<polygon fill=\"black\" stroke=\"black\" points=\"79.68,-115.79 72,-108.49 73.46,-118.99 79.68,-115.79\"/>\n",
       "</g>\n",
       "<!-- 8 -->\n",
       "<g id=\"node3\" class=\"node\">\n",
       "<title>8</title>\n",
       "<ellipse fill=\"none\" stroke=\"black\" cx=\"135\" cy=\"-90\" rx=\"27\" ry=\"18\"/>\n",
       "<text text-anchor=\"middle\" x=\"135\" y=\"-84.95\" font-family=\"Times,serif\" font-size=\"14.00\">8</text>\n",
       "</g>\n",
       "<!-- *&#45;&gt;8 -->\n",
       "<g id=\"edge1\" class=\"edge\">\n",
       "<title>*&#45;&gt;8</title>\n",
       "<path fill=\"none\" stroke=\"black\" d=\"M107.35,-144.76C111.58,-136.55 116.81,-126.37 121.58,-117.09\"/>\n",
       "<polygon fill=\"black\" stroke=\"black\" points=\"124.54,-118.99 126,-108.49 118.32,-115.79 124.54,-118.99\"/>\n",
       "</g>\n",
       "<!-- y -->\n",
       "<g id=\"node4\" class=\"node\">\n",
       "<title>y</title>\n",
       "<ellipse fill=\"none\" stroke=\"black\" cx=\"27\" cy=\"-18\" rx=\"27\" ry=\"18\"/>\n",
       "<text text-anchor=\"middle\" x=\"27\" y=\"-12.95\" font-family=\"Times,serif\" font-size=\"14.00\">y</text>\n",
       "</g>\n",
       "<!-- +&#45;&gt;y -->\n",
       "<g id=\"edge3\" class=\"edge\">\n",
       "<title>+&#45;&gt;y</title>\n",
       "<path fill=\"none\" stroke=\"black\" d=\"M54.65,-72.76C50.42,-64.55 45.19,-54.37 40.42,-45.09\"/>\n",
       "<polygon fill=\"black\" stroke=\"black\" points=\"43.68,-43.79 36,-36.49 37.46,-46.99 43.68,-43.79\"/>\n",
       "</g>\n",
       "<!-- x -->\n",
       "<g id=\"node5\" class=\"node\">\n",
       "<title>x</title>\n",
       "<ellipse fill=\"none\" stroke=\"black\" cx=\"99\" cy=\"-18\" rx=\"27\" ry=\"18\"/>\n",
       "<text text-anchor=\"middle\" x=\"99\" y=\"-12.95\" font-family=\"Times,serif\" font-size=\"14.00\">x</text>\n",
       "</g>\n",
       "<!-- +&#45;&gt;x -->\n",
       "<g id=\"edge4\" class=\"edge\">\n",
       "<title>+&#45;&gt;x</title>\n",
       "<path fill=\"none\" stroke=\"black\" d=\"M71.35,-72.76C75.58,-64.55 80.81,-54.37 85.58,-45.09\"/>\n",
       "<polygon fill=\"black\" stroke=\"black\" points=\"88.54,-46.99 90,-36.49 82.32,-43.79 88.54,-46.99\"/>\n",
       "</g>\n",
       "</g>\n",
       "</svg>\n"
      ],
      "text/plain": [
       "<graphviz.dot.Digraph at 0x7f98fb330ac0>"
      ]
     },
     "execution_count": 11,
     "metadata": {},
     "output_type": "execute_result"
    }
   ],
   "source": [
    "print(\"8*(y+x)\")\n",
    "from graphviz import Digraph\n",
    "g1 = Digraph('ex1')\n",
    "g1.node('*', label='*')\n",
    "g1.node('+', label='+')\n",
    "g1.node('8', label='8')\n",
    "g1.node('y', label='y')\n",
    "g1.node('x', label='x')\n",
    "g1.edge('*','8')\n",
    "g1.edge('*','+')\n",
    "g1.edge('+', 'y')\n",
    "g1.edge('+', 'x')\n",
    "g1.render('ex1', format='png') # Uncomment if you want to save the figure\n",
    "g1\n"
   ]
  },
  {
   "cell_type": "code",
   "execution_count": 12,
   "metadata": {},
   "outputs": [
    {
     "name": "stdout",
     "output_type": "stream",
     "text": [
      "8*y+x\n"
     ]
    },
    {
     "data": {
      "image/svg+xml": [
       "<?xml version=\"1.0\" encoding=\"UTF-8\" standalone=\"no\"?>\n",
       "<!DOCTYPE svg PUBLIC \"-//W3C//DTD SVG 1.1//EN\"\n",
       " \"http://www.w3.org/Graphics/SVG/1.1/DTD/svg11.dtd\">\n",
       "<!-- Generated by graphviz version 12.0.0 (20240704.0754)\n",
       " -->\n",
       "<!-- Title: ex2 Pages: 1 -->\n",
       "<svg width=\"170pt\" height=\"188pt\"\n",
       " viewBox=\"0.00 0.00 170.00 188.00\" xmlns=\"http://www.w3.org/2000/svg\" xmlns:xlink=\"http://www.w3.org/1999/xlink\">\n",
       "<g id=\"graph0\" class=\"graph\" transform=\"scale(1 1) rotate(0) translate(4 184)\">\n",
       "<title>ex2</title>\n",
       "<polygon fill=\"white\" stroke=\"none\" points=\"-4,4 -4,-184 166,-184 166,4 -4,4\"/>\n",
       "<!-- * -->\n",
       "<g id=\"node1\" class=\"node\">\n",
       "<title>*</title>\n",
       "<ellipse fill=\"none\" stroke=\"black\" cx=\"63\" cy=\"-90\" rx=\"27\" ry=\"18\"/>\n",
       "<text text-anchor=\"middle\" x=\"63\" y=\"-84.95\" font-family=\"Times,serif\" font-size=\"14.00\">*</text>\n",
       "</g>\n",
       "<!-- 8 -->\n",
       "<g id=\"node3\" class=\"node\">\n",
       "<title>8</title>\n",
       "<ellipse fill=\"none\" stroke=\"black\" cx=\"27\" cy=\"-18\" rx=\"27\" ry=\"18\"/>\n",
       "<text text-anchor=\"middle\" x=\"27\" y=\"-12.95\" font-family=\"Times,serif\" font-size=\"14.00\">8</text>\n",
       "</g>\n",
       "<!-- *&#45;&gt;8 -->\n",
       "<g id=\"edge3\" class=\"edge\">\n",
       "<title>*&#45;&gt;8</title>\n",
       "<path fill=\"none\" stroke=\"black\" d=\"M54.65,-72.76C50.42,-64.55 45.19,-54.37 40.42,-45.09\"/>\n",
       "<polygon fill=\"black\" stroke=\"black\" points=\"43.68,-43.79 36,-36.49 37.46,-46.99 43.68,-43.79\"/>\n",
       "</g>\n",
       "<!-- y -->\n",
       "<g id=\"node4\" class=\"node\">\n",
       "<title>y</title>\n",
       "<ellipse fill=\"none\" stroke=\"black\" cx=\"99\" cy=\"-18\" rx=\"27\" ry=\"18\"/>\n",
       "<text text-anchor=\"middle\" x=\"99\" y=\"-12.95\" font-family=\"Times,serif\" font-size=\"14.00\">y</text>\n",
       "</g>\n",
       "<!-- *&#45;&gt;y -->\n",
       "<g id=\"edge4\" class=\"edge\">\n",
       "<title>*&#45;&gt;y</title>\n",
       "<path fill=\"none\" stroke=\"black\" d=\"M71.35,-72.76C75.58,-64.55 80.81,-54.37 85.58,-45.09\"/>\n",
       "<polygon fill=\"black\" stroke=\"black\" points=\"88.54,-46.99 90,-36.49 82.32,-43.79 88.54,-46.99\"/>\n",
       "</g>\n",
       "<!-- + -->\n",
       "<g id=\"node2\" class=\"node\">\n",
       "<title>+</title>\n",
       "<ellipse fill=\"none\" stroke=\"black\" cx=\"99\" cy=\"-162\" rx=\"27\" ry=\"18\"/>\n",
       "<text text-anchor=\"middle\" x=\"99\" y=\"-156.95\" font-family=\"Times,serif\" font-size=\"14.00\">+</text>\n",
       "</g>\n",
       "<!-- +&#45;&gt;* -->\n",
       "<g id=\"edge1\" class=\"edge\">\n",
       "<title>+&#45;&gt;*</title>\n",
       "<path fill=\"none\" stroke=\"black\" d=\"M90.65,-144.76C86.42,-136.55 81.19,-126.37 76.42,-117.09\"/>\n",
       "<polygon fill=\"black\" stroke=\"black\" points=\"79.68,-115.79 72,-108.49 73.46,-118.99 79.68,-115.79\"/>\n",
       "</g>\n",
       "<!-- x -->\n",
       "<g id=\"node5\" class=\"node\">\n",
       "<title>x</title>\n",
       "<ellipse fill=\"none\" stroke=\"black\" cx=\"135\" cy=\"-90\" rx=\"27\" ry=\"18\"/>\n",
       "<text text-anchor=\"middle\" x=\"135\" y=\"-84.95\" font-family=\"Times,serif\" font-size=\"14.00\">x</text>\n",
       "</g>\n",
       "<!-- +&#45;&gt;x -->\n",
       "<g id=\"edge2\" class=\"edge\">\n",
       "<title>+&#45;&gt;x</title>\n",
       "<path fill=\"none\" stroke=\"black\" d=\"M107.35,-144.76C111.58,-136.55 116.81,-126.37 121.58,-117.09\"/>\n",
       "<polygon fill=\"black\" stroke=\"black\" points=\"124.54,-118.99 126,-108.49 118.32,-115.79 124.54,-118.99\"/>\n",
       "</g>\n",
       "</g>\n",
       "</svg>\n"
      ],
      "text/plain": [
       "<graphviz.dot.Digraph at 0x7f98fb35a190>"
      ]
     },
     "execution_count": 12,
     "metadata": {},
     "output_type": "execute_result"
    }
   ],
   "source": [
    "print(\"8*y+x\")\n",
    "g2 = Digraph('ex2')\n",
    "g2.node('*', label='*')\n",
    "g2.node('+', label='+')\n",
    "g2.node('8', label='8')\n",
    "g2.node('y', label='y')\n",
    "g2.node('x', label='x')\n",
    "g2.edge('+','*')\n",
    "g2.edge('+','x')\n",
    "g2.edge('*', '8')\n",
    "g2.edge('*', 'y')\n",
    "g2.render('ex2', format='png') # Uncomment if you want to save the figure\n",
    "g2"
   ]
  },
  {
   "cell_type": "code",
   "execution_count": 36,
   "metadata": {},
   "outputs": [
    {
     "name": "stdout",
     "output_type": "stream",
     "text": [
      "(8*(y+x))\n",
      "((8*y)+x)\n"
     ]
    }
   ],
   "source": [
    "# Super class for Expressions:\n",
    "\n",
    "class Expr:\n",
    "    pass\n",
    "\n",
    "### Subclass of Expr for Constant e.g., 3\n",
    "\n",
    "class Const(Expr):\n",
    "    def __init__(self, val):\n",
    "        self.val = val  \n",
    "        \n",
    "    def getVal(self):\n",
    "        return self.val\n",
    "    \n",
    "    def __str__(self):\n",
    "        return str(self.getVal())\n",
    "    \n",
    "    def eval(self, env):\n",
    "        return self.getVal()\n",
    "\n",
    "### Subclass of Expr for Variables e.g., x, y       \n",
    "class Var(Expr):\n",
    "    def __init__(self, name):\n",
    "        self.name = name\n",
    "        \n",
    "    def getName(self):\n",
    "        return self.name\n",
    "        \n",
    "    def __str__(self):\n",
    "        return self.getName()\n",
    "    \n",
    "    def eval(self, env):\n",
    "        return env[self.name]\n",
    "\n",
    "### Subclass of Expr for Binary Operations: e.g., x, y       \n",
    "class Times(Expr):\n",
    "    def __init__(self, l, r):\n",
    "        self.l = l\n",
    "        self.r = r\n",
    "        \n",
    "    def getLeft(self):\n",
    "        return self.l\n",
    "    \n",
    "    def getRight(self):\n",
    "        return self.r\n",
    "          \n",
    "    def __str__(self):\n",
    "        return \"(\" + str(self.getLeft()) + \"*\" + str(self.getRight()) + \")\"\n",
    "    \n",
    "    def eval(self, env):\n",
    "        return self.getLeft().eval(env)*self.getRight().eval(env)\n",
    "\n",
    "class Plus(Expr):\n",
    "    def __init__(self, l, r):\n",
    "        self.l = l\n",
    "        self.r = r\n",
    "    def __str__(self):\n",
    "        return \"(\" + str(self.l) + \"+\" + str(self.r) + \")\"\n",
    "    \n",
    "    def getLeft(self):\n",
    "        return self.l\n",
    "    \n",
    "    def getRight(self):\n",
    "        return self.r\n",
    "    \n",
    "    def eval(self, env):\n",
    "        return self.getLeft().eval(env) + self.getRight().eval(env)\n",
    "        \n",
    "### Let's print ex1: 8*(y + x)\n",
    "ex1 = Times(Const(8), Plus(Var(\"y\"),Var(\"x\")))\n",
    "\n",
    "### Let's print ex1: 3*y + x\n",
    "ex2 = Plus(Times(Const(8), Var(\"y\")), Var(\"x\")) \n",
    "\n",
    "print(ex1)\n",
    "print(ex2)"
   ]
  },
  {
   "cell_type": "code",
   "execution_count": 37,
   "metadata": {},
   "outputs": [
    {
     "name": "stdout",
     "output_type": "stream",
     "text": [
      "Printing Eval {'x': 5, 'y': 10}\n"
     ]
    },
    {
     "data": {
      "text/plain": [
       "120"
      ]
     },
     "execution_count": 37,
     "metadata": {},
     "output_type": "execute_result"
    }
   ],
   "source": [
    "# Evaluate The Expressions\n",
    "vals = {\"x\":5, \"y\":10}\n",
    "ex1.eval(vals)\n"
   ]
  },
  {
   "cell_type": "markdown",
   "metadata": {},
   "source": [
    "# Basics of PyTorch"
   ]
  },
  {
   "cell_type": "markdown",
   "metadata": {},
   "source": [
    "#### Tensors and Properties"
   ]
  },
  {
   "cell_type": "code",
   "execution_count": 13,
   "metadata": {},
   "outputs": [],
   "source": [
    "import torch"
   ]
  },
  {
   "cell_type": "code",
   "execution_count": 14,
   "metadata": {},
   "outputs": [],
   "source": [
    "import numpy as np"
   ]
  },
  {
   "cell_type": "code",
   "execution_count": 16,
   "metadata": {},
   "outputs": [
    {
     "data": {
      "text/plain": [
       "array([[0.97829621, 0.31976517, 0.12612743],\n",
       "       [0.73697165, 0.82089224, 0.36551688],\n",
       "       [0.88159137, 0.58757159, 0.18008277]])"
      ]
     },
     "execution_count": 16,
     "metadata": {},
     "output_type": "execute_result"
    }
   ],
   "source": [
    "# Set seed for reproducibility\n",
    "#np.random.seed(0)\n",
    "\n",
    "\n",
    "# Predefine Matrix of shape=(2,3)\n",
    "np.array([[4, 5, 6], [1, 7, 8]])\n",
    "\n",
    "# Zero Matrix of shape=(3,3)\n",
    "np.zeros((3,3))\n",
    "\n",
    "# Identity Matrix of shape=(2,2)\n",
    "np.eye(2)\n",
    "\n",
    "# Random Matrix of shape=(3,3)\n",
    "np.random.rand(3,3)"
   ]
  },
  {
   "cell_type": "code",
   "execution_count": 17,
   "metadata": {},
   "outputs": [
    {
     "data": {
      "text/plain": [
       "array([[0.46207428, 0.62640764, 0.20812877],\n",
       "       [0.42017231, 0.91309242, 0.59481331],\n",
       "       [0.25973519, 0.71615789, 0.53849798]])"
      ]
     },
     "execution_count": 17,
     "metadata": {},
     "output_type": "execute_result"
    }
   ],
   "source": [
    "# Set seed for reproducibility\n",
    "#np.random.seed(0)\n",
    "\n",
    "\n",
    "# Predefine Matrix of shape=(2,3)\n",
    "np.array([[4, 5, 6], [1, 7, 8]])\n",
    "\n",
    "# Zero Matrix of shape=(3,3)\n",
    "np.zeros((3,3))\n",
    "\n",
    "# Identity Matrix of shape=(2,2)\n",
    "np.eye(2)\n",
    "\n",
    "# Random Matrix of shape=(3,3)\n",
    "np.random.rand(3,3)"
   ]
  },
  {
   "cell_type": "code",
   "execution_count": 18,
   "metadata": {},
   "outputs": [
    {
     "name": "stdout",
     "output_type": "stream",
     "text": [
      "<class 'torch.Tensor'>\n"
     ]
    },
    {
     "data": {
      "text/plain": [
       "tensor([[0.4963, 0.7682, 0.0885],\n",
       "        [0.1320, 0.3074, 0.6341],\n",
       "        [0.4901, 0.8964, 0.4556]])"
      ]
     },
     "execution_count": 18,
     "metadata": {},
     "output_type": "execute_result"
    }
   ],
   "source": [
    "# Set seed for reproducibility\n",
    "torch.manual_seed(0)\n",
    "\n",
    "\n",
    "# Predefine Matrix of shape=(2,3)\n",
    "x = torch.tensor([[4, 5, 6], [1, 7, 8]])\n",
    "print(type(x))\n",
    "\n",
    "# Zero Matrix of shape=(3,3)\n",
    "torch.zeros((3,3))\n",
    "\n",
    "# Identity Matrix of shape=(2,2)\n",
    "torch.eye(2)\n",
    "\n",
    "# Random Matrix of shape=(3,3)\n",
    "torch.rand(3,3)"
   ]
  },
  {
   "cell_type": "code",
   "execution_count": 19,
   "metadata": {},
   "outputs": [
    {
     "name": "stdout",
     "output_type": "stream",
     "text": [
      "Sclaar x: 1.0\n",
      "Dimension of vector is: 0\n",
      "Vector v: tensor([1., 2., 3.])\n",
      "Dimension of vector is: 1\n",
      "Dimension of matrix is: 2\n",
      "Dimension of Tensor is: 3\n"
     ]
    }
   ],
   "source": [
    "##### Dimension operations on Tensors.\n",
    "import torch\n",
    "# Scalar\n",
    "s = torch.tensor(1.)\n",
    "print(f\"Sclaar x: {s}\")\n",
    "\n",
    "# Check dimension of Scalar\n",
    "d = s.dim()\n",
    "print(f\"Dimension of vector is: {d}\")\n",
    "\n",
    "# Vectors\n",
    "v = torch.tensor([1., 2., 3.])\n",
    "print(f\"Vector v: {v}\")\n",
    "#Check dimension of Vectors\n",
    "d = v.dim()\n",
    "print(f\"Dimension of vector is: {d}\")\n",
    "\n",
    "\n",
    "# Matrix\n",
    "m = torch.tensor([[1., 2., 3.],[4., 5., 6.]])\n",
    "d = m.dim()\n",
    "print(f\"Dimension of matrix is: {d}\")\n",
    "\n",
    "\n",
    "# Tensor\n",
    "# Matrix\n",
    "m = torch.tensor([[[1., 2., 3.],[4., 5., 6.], [1., 2., 3.],[4., 5., 6.]]])\n",
    "d = m.dim()\n",
    "print(f\"Dimension of Tensor is: {d}\")\n",
    "\n",
    "\n"
   ]
  },
  {
   "cell_type": "markdown",
   "metadata": {},
   "source": [
    "#### Methods on Tensors"
   ]
  },
  {
   "cell_type": "markdown",
   "metadata": {},
   "source": [
    "###### Sum"
   ]
  },
  {
   "cell_type": "code",
   "execution_count": 20,
   "metadata": {},
   "outputs": [
    {
     "name": "stdout",
     "output_type": "stream",
     "text": [
      "x: tensor([[0.4963, 0.7682],\n",
      "        [0.0885, 0.1320],\n",
      "        [0.3074, 0.6341]])\n",
      "xsum using mthod1: tensor([1.2645, 0.2205, 0.9415])\n",
      "xsum using mthod2: tensor([1.2645, 0.2205, 0.9415])\n"
     ]
    }
   ],
   "source": [
    "# Set seed for reproducibility\n",
    "torch.manual_seed(0)\n",
    "\n",
    "\n",
    "# Random Matrix of shape=(3,3)\n",
    "x = torch.rand(3,2)\n",
    "print(f\"x: {x}\")\n",
    "\n",
    "xsum = torch.sum(x, dim=1)\n",
    "print(f\"xsum using mthod1: {xsum}\")\n",
    "\n",
    "x.sum(dim=1)\n",
    "print(f\"xsum using mthod2: {xsum}\")\n",
    "\n"
   ]
  },
  {
   "cell_type": "markdown",
   "metadata": {},
   "source": [
    "###### Reshape : `view` and  `reshape`  methods"
   ]
  },
  {
   "cell_type": "code",
   "execution_count": 24,
   "metadata": {},
   "outputs": [
    {
     "name": "stdout",
     "output_type": "stream",
     "text": [
      "x=tensor([[ 1,  2,  3,  4],\n",
      "        [ 5,  6,  7,  8],\n",
      "        [ 9, 10, 11, 12]])\n",
      "x=tensor([[ 1,  2,  3,  4],\n",
      "        [ 5,  6,  7,  8],\n",
      "        [ 9, 10, 11, 12]])\n"
     ]
    }
   ],
   "source": [
    "#### Inplace Reshaping\n",
    "\n",
    "# A vector of length N=10\n",
    "x = torch.tensor([1, 2, 3, 4, 5, 6, 7, 8, 9, 10, 11, 12])\n",
    "\n",
    "# Reshape in amatrix of shape= (3,4)\n",
    "x = x.view(3,4)\n",
    "print(f\"x={x}\")\n",
    "\n",
    "# Reshape with unspecified number of rows and 4 column\n",
    "x = x.view(-1, 4)\n",
    "print(f\"x={x}\")\n",
    "\n",
    "#### Reshaping via copying\n",
    "# A vector of length N=10\n",
    "x = torch.tensor([1,2,3,4,5,6,7,8,9,10,11,12])\n",
    "\n",
    "# Reshape in amatrix of shape= (3,4)\n",
    "y3 = x.reshape(3,4)\n",
    "\n",
    "# Reshape with unspecified number of rows and 4 column\n",
    "y4 = x.reshape(-1,4)"
   ]
  },
  {
   "cell_type": "markdown",
   "metadata": {},
   "source": [
    "###### Computing Norm of a vector using `norm` method\n",
    "\n",
    "$$\n",
    "L_p~\\text{norm}:\n",
    "||{\\mathbf{x}}||_p = \\left(\\sum_i |x_i|^p\\right)^{\\frac{1}{p}}\n",
    "$$\n",
    "\n",
    "\n",
    "$$\n",
    "L^1~\\text{norm}:\n",
    "|| {\\mathbf{x}} ||_1 = |x_1| + |x_2| + \\ldots + |x_n|\n",
    "$$\n",
    "\n",
    "$$\n",
    "L^2~\\text{norm}:\n",
    "|| {\\mathbf{x}} ||_2 = \\sqrt{x_1^2 + x_2^2 + \\ldots + x_n^2}\n",
    "$$\n",
    "\n"
   ]
  },
  {
   "cell_type": "code",
   "execution_count": 17,
   "metadata": {},
   "outputs": [
    {
     "name": "stdout",
     "output_type": "stream",
     "text": [
      "L1 Norm of x is:1.3529558181762695\n",
      "L2 Norm of x is:0.9188381433486938\n"
     ]
    }
   ],
   "source": [
    "torch.manual_seed(0)\n",
    "x = torch.rand(3)\n",
    "x.norm(p=1)\n",
    "x.norm(p=2)\n",
    "print(f\"L1 Norm of x is:{x.norm(p=1)}\")\n",
    "print(f\"L2 Norm of x is:{x.norm(p=2)}\")"
   ]
  },
  {
   "cell_type": "markdown",
   "metadata": {},
   "source": [
    "###### Computing Norm of a vector without using the method"
   ]
  },
  {
   "cell_type": "code",
   "execution_count": 18,
   "metadata": {},
   "outputs": [
    {
     "name": "stdout",
     "output_type": "stream",
     "text": [
      "L1 norm: is: 1.3529558181762695\n",
      "L2 norm: is: 0.9188381433486938\n",
      "L1 norm: is: 1.3529558181762695\n",
      "L2 norm: is: 0.9188381433486938\n"
     ]
    }
   ],
   "source": [
    "n1 = torch.sum(torch.abs(x))\n",
    "print(f\"L1 norm: is: {n1}\")\n",
    "n2 = torch.sqrt(torch.sum(x**2))\n",
    "print(f\"L2 norm: is: {n2}\")\n",
    "\n",
    "## Or Calling method directly on the data structures\n",
    "n1 = x.abs().sum()\n",
    "print(f\"L1 norm: is: {n1}\")\n",
    "n2 = (x**2).sum().sqrt() \n",
    "print(f\"L2 norm: is: {n2}\")"
   ]
  },
  {
   "cell_type": "markdown",
   "metadata": {},
   "source": [
    "### Tensors on GPU"
   ]
  },
  {
   "cell_type": "code",
   "execution_count": 25,
   "metadata": {},
   "outputs": [
    {
     "data": {
      "text/plain": [
       "False"
      ]
     },
     "execution_count": 25,
     "metadata": {},
     "output_type": "execute_result"
    }
   ],
   "source": [
    "import torch\n",
    "torch.cuda.is_available()  # Check if we can use GPUs"
   ]
  },
  {
   "cell_type": "code",
   "execution_count": 26,
   "metadata": {},
   "outputs": [],
   "source": [
    "x = torch.Tensor([[4,5,8], [3,8,9]])"
   ]
  },
  {
   "cell_type": "markdown",
   "metadata": {},
   "source": [
    "### Mapping tensors to GPU"
   ]
  },
  {
   "cell_type": "code",
   "execution_count": 27,
   "metadata": {},
   "outputs": [
    {
     "ename": "AssertionError",
     "evalue": "Torch not compiled with CUDA enabled",
     "output_type": "error",
     "traceback": [
      "\u001b[0;31m---------------------------------------------------------------------------\u001b[0m",
      "\u001b[0;31mAssertionError\u001b[0m                            Traceback (most recent call last)",
      "\u001b[0;32m<ipython-input-27-0745f923a409>\u001b[0m in \u001b[0;36m<module>\u001b[0;34m\u001b[0m\n\u001b[1;32m      3\u001b[0m \u001b[0;34m\u001b[0m\u001b[0m\n\u001b[1;32m      4\u001b[0m \u001b[0;31m# Send Tensor to GPU\u001b[0m\u001b[0;34m\u001b[0m\u001b[0;34m\u001b[0m\u001b[0;34m\u001b[0m\u001b[0m\n\u001b[0;32m----> 5\u001b[0;31m \u001b[0mx\u001b[0m\u001b[0;34m.\u001b[0m\u001b[0mto\u001b[0m\u001b[0;34m(\u001b[0m\u001b[0mdev_gpu\u001b[0m\u001b[0;34m)\u001b[0m\u001b[0;34m\u001b[0m\u001b[0;34m\u001b[0m\u001b[0m\n\u001b[0m",
      "\u001b[0;32m~/opt/anaconda3/lib/python3.8/site-packages/torch/cuda/__init__.py\u001b[0m in \u001b[0;36m_lazy_init\u001b[0;34m()\u001b[0m\n\u001b[1;32m    291\u001b[0m             )\n\u001b[1;32m    292\u001b[0m         \u001b[0;32mif\u001b[0m \u001b[0;32mnot\u001b[0m \u001b[0mhasattr\u001b[0m\u001b[0;34m(\u001b[0m\u001b[0mtorch\u001b[0m\u001b[0;34m.\u001b[0m\u001b[0m_C\u001b[0m\u001b[0;34m,\u001b[0m \u001b[0;34m\"_cuda_getDeviceCount\"\u001b[0m\u001b[0;34m)\u001b[0m\u001b[0;34m:\u001b[0m\u001b[0;34m\u001b[0m\u001b[0;34m\u001b[0m\u001b[0m\n\u001b[0;32m--> 293\u001b[0;31m             \u001b[0;32mraise\u001b[0m \u001b[0mAssertionError\u001b[0m\u001b[0;34m(\u001b[0m\u001b[0;34m\"Torch not compiled with CUDA enabled\"\u001b[0m\u001b[0;34m)\u001b[0m\u001b[0;34m\u001b[0m\u001b[0;34m\u001b[0m\u001b[0m\n\u001b[0m\u001b[1;32m    294\u001b[0m         \u001b[0;32mif\u001b[0m \u001b[0m_cudart\u001b[0m \u001b[0;32mis\u001b[0m \u001b[0;32mNone\u001b[0m\u001b[0;34m:\u001b[0m\u001b[0;34m\u001b[0m\u001b[0;34m\u001b[0m\u001b[0m\n\u001b[1;32m    295\u001b[0m             raise AssertionError(\n",
      "\u001b[0;31mAssertionError\u001b[0m: Torch not compiled with CUDA enabled"
     ]
    }
   ],
   "source": [
    "dev_cpu = torch.device(\"cpu\")\n",
    "dev_gpu = torch.device(\"cuda:0\")\n",
    "\n",
    "# Send Tensor to GPU\n",
    "x.to(dev_gpu)\n"
   ]
  },
  {
   "cell_type": "code",
   "execution_count": 22,
   "metadata": {},
   "outputs": [
    {
     "data": {
      "text/plain": [
       "tensor([[4., 5., 8.],\n",
       "        [3., 8., 9.]])"
      ]
     },
     "execution_count": 22,
     "metadata": {},
     "output_type": "execute_result"
    }
   ],
   "source": [
    "# At the start of your code\n",
    "device = torch.device(\"cpu\" if not torch.cuda.is_available() else \"cuda\")\n",
    "\n",
    "# For later dispatch\n",
    "x.to(device)"
   ]
  },
  {
   "cell_type": "markdown",
   "metadata": {},
   "source": [
    "### NumPy ----> PyTorch ----> NumPy"
   ]
  },
  {
   "cell_type": "code",
   "execution_count": 31,
   "metadata": {},
   "outputs": [
    {
     "name": "stdout",
     "output_type": "stream",
     "text": [
      "[[0.76460683 0.98109736 0.93249679 0.55132024]\n",
      " [0.81423968 0.25794319 0.2398613  0.09450384]\n",
      " [0.79534591 0.54217746 0.51530763 0.20747168]\n",
      " [0.26212085 0.82505557 0.62710313 0.07987414]]\n"
     ]
    }
   ],
   "source": [
    "import numpy as np\n",
    "x = np.random.random((4,4))\n",
    "print(x)"
   ]
  },
  {
   "cell_type": "code",
   "execution_count": 38,
   "metadata": {},
   "outputs": [
    {
     "name": "stdout",
     "output_type": "stream",
     "text": [
      "tensor([[0.7646, 0.9811, 0.9325, 0.5513],\n",
      "        [0.8142, 0.2579, 0.2399, 0.0945],\n",
      "        [0.7953, 0.5422, 0.5153, 0.2075],\n",
      "        [0.2621, 0.8251, 0.6271, 0.0799]], dtype=torch.float64,\n",
      "       requires_grad=True)\n",
      "True\n"
     ]
    }
   ],
   "source": [
    "# NumPy to PyTorch\n",
    "y = torch.from_numpy(x)\n",
    "\n",
    "# Set this array to differentiable\n",
    "y=y.requires_grad_()\n",
    "print(y)\n",
    "print(y.requires_grad)\n",
    "\n",
    "\n",
    "## Create a Tensor with requires Grad true\n",
    "x = torch.tensor([1.0, 2.0, 3.0], requires_grad=True)\n",
    "\n",
    "\n",
    "#If you already have a tensor but it was created without requires_grad=True, \n",
    "#you can enable it like this:\n",
    "\n",
    "x = torch.tensor([1.0, 2.0, 3.0])\n",
    "x = x.detach().requires_grad_()  # Detach and set requires_grad=True\n",
    "\n",
    "print(x.requires_grad)  # Output: True"
   ]
  },
  {
   "cell_type": "code",
   "execution_count": 57,
   "metadata": {},
   "outputs": [
    {
     "name": "stdout",
     "output_type": "stream",
     "text": [
      "Gradient at x=2: tensor([7.])\n"
     ]
    }
   ],
   "source": [
    "# Why requires_grad=True is useful\n",
    "import torch\n",
    "x = torch.tensor([2.0], requires_grad=True)  \n",
    "f = x**2 + 3*x + 2\n",
    "f.backward()\n",
    "# Print the gradient\n",
    "print(\"Gradient at x=2:\", x.grad)  \n"
   ]
  },
  {
   "cell_type": "code",
   "execution_count": 43,
   "metadata": {},
   "outputs": [
    {
     "name": "stdout",
     "output_type": "stream",
     "text": [
      "Gradient (df/dx, df/dy): tensor([13., 12.])\n"
     ]
    }
   ],
   "source": [
    "import torch\n",
    "xy = torch.tensor([2.0, 3.0], requires_grad=True)  \n",
    "\n",
    "# Define the function f(x, y) = x^2 + y^2 + 3xy\n",
    "f = xy[0]**2 + xy[1]**2 + 3 * xy[0] * xy[1]\n",
    "f.backward()\n",
    "\n",
    "# Print gradients\n",
    "print(\"Gradient (df/dx, df/dy):\", xy.grad)  \n"
   ]
  },
  {
   "cell_type": "code",
   "execution_count": 55,
   "metadata": {},
   "outputs": [
    {
     "data": {
      "text/plain": [
       "torch.Size([3, 1])"
      ]
     },
     "execution_count": 55,
     "metadata": {},
     "output_type": "execute_result"
    }
   ],
   "source": [
    "import torch\n",
    "\n",
    "def gradients(outputs, inputs):\n",
    "    return torch.autograd.grad(outputs, inputs, grad_outputs=torch.ones_like(outputs), create_graph=True)\n",
    "\n",
    "# Define a vector input with requires_grad=True\n",
    "x = torch.tensor([[2.0], [3.0], [4.0]], requires_grad=True)  \n",
    "\n",
    "# Define the function with vector output\n",
    "f1 = x[0]**2        # f1(x1) = x1^2\n",
    "f2 = torch.exp(x[1]) # f2(x2) = e^x2\n",
    "f3 = torch.sin(x[2]) # f3(x3) = sin(x3)\n",
    "f = torch.stack([f1, f2, f3])  # Stack outputs to form a vector function\n",
    "df = gradients(f, x)\n"
   ]
  },
  {
   "cell_type": "code",
   "execution_count": 70,
   "metadata": {},
   "outputs": [],
   "source": [
    "# PyTorch ---> NumPy"
   ]
  },
  {
   "cell_type": "code",
   "execution_count": 39,
   "metadata": {},
   "outputs": [
    {
     "ename": "RuntimeError",
     "evalue": "Can't call numpy() on Tensor that requires grad. Use tensor.detach().numpy() instead.",
     "output_type": "error",
     "traceback": [
      "\u001b[0;31m---------------------------------------------------------------------------\u001b[0m",
      "\u001b[0;31mRuntimeError\u001b[0m                              Traceback (most recent call last)",
      "\u001b[0;32m<ipython-input-39-a358ca12d0af>\u001b[0m in \u001b[0;36m<module>\u001b[0;34m\u001b[0m\n\u001b[0;32m----> 1\u001b[0;31m \u001b[0mx\u001b[0m \u001b[0;34m=\u001b[0m \u001b[0my\u001b[0m\u001b[0;34m.\u001b[0m\u001b[0mnumpy\u001b[0m\u001b[0;34m(\u001b[0m\u001b[0;34m)\u001b[0m\u001b[0;34m\u001b[0m\u001b[0;34m\u001b[0m\u001b[0m\n\u001b[0m\u001b[1;32m      2\u001b[0m \u001b[0;31m#print(X)\u001b[0m\u001b[0;34m\u001b[0m\u001b[0;34m\u001b[0m\u001b[0;34m\u001b[0m\u001b[0m\n",
      "\u001b[0;31mRuntimeError\u001b[0m: Can't call numpy() on Tensor that requires grad. Use tensor.detach().numpy() instead."
     ]
    }
   ],
   "source": [
    "x = y.numpy()\n",
    "#print(X)"
   ]
  },
  {
   "cell_type": "markdown",
   "metadata": {},
   "source": [
    "### Timing GPU Operations"
   ]
  },
  {
   "cell_type": "code",
   "execution_count": 54,
   "metadata": {},
   "outputs": [
    {
     "data": {
      "text/plain": [
       "torch.Size([100, 400, 400])"
      ]
     },
     "execution_count": 54,
     "metadata": {},
     "output_type": "execute_result"
    }
   ],
   "source": [
    "A = torch.rand(100, 400, 400)\n",
    "#B = A.cuda()\n",
    "A.size()"
   ]
  },
  {
   "cell_type": "code",
   "execution_count": 55,
   "metadata": {},
   "outputs": [
    {
     "name": "stdout",
     "output_type": "stream",
     "text": [
      "120 ms ± 9.29 ms per loop (mean ± std. dev. of 7 runs, 3 loops each)\n"
     ]
    }
   ],
   "source": [
    "%timeit -n 3 torch.bmm(A, A)\n",
    "#%timeit -n 3 torch.bmm(B, B)"
   ]
  },
  {
   "cell_type": "markdown",
   "metadata": {},
   "source": [
    "\n",
    "$$\n",
    "a = 8\\\\\n",
    "b = 6\\\\\n",
    "c = a + b\\\\\n",
    "d = a * c\\\\\n",
    "$$\n",
    "Compute $ \\frac{\\partial d}{\\partial a}$\n",
    "High School Approach:\n",
    "\n",
    "1. $\\qquad d = a*c$\n",
    "\n",
    "2. $\\qquad  \\frac{\\partial d}{\\partial a} = c * \\frac{\\partial a}{\\partial a} + a * \\frac{\\partial c}{\\partial a}$\n",
    "\n",
    "3. $\\qquad  \\frac{\\partial d}{\\partial a} = c + a* \\frac{\\partial c}{\\partial a}$\n",
    "4. $\\qquad  \\frac{\\partial d}{\\partial a} = (a + b) + a*\\frac{\\partial a}{\\partial a} + a * \\frac{\\partial b}{\\partial a} $\n",
    "5. $\\qquad  \\frac{\\partial d}{\\partial a} = a + b + a*(1 + 0)$\n",
    "6. $\\qquad  \\frac{\\partial d}{\\partial a} = 2a + b $\n",
    "7. $\\qquad  \\frac{\\partial d}{\\partial a} = 2*8+ 6 = 22 $\n",
    "\n",
    "In case if you need to $\\frac{\\partial d}{\\partial b}$, steps 1-7 need to carried out again.\n",
    "\""
   ]
  },
  {
   "cell_type": "markdown",
   "metadata": {},
   "source": [
    "# Automatic Differentiation"
   ]
  },
  {
   "cell_type": "code",
   "execution_count": 15,
   "metadata": {},
   "outputs": [],
   "source": [
    "from collections import defaultdict\n",
    "class Var:\n",
    "    def __init__(self, val, local_grad=()):\n",
    "        self.val = val\n",
    "        self.local_grad = local_grad\n",
    "         \n",
    "    def __add__(self, other):\n",
    "        y = self.val + other.val\n",
    "        local_grad = ((self, 1), (other, 1))       \n",
    "        return Var(y, local_grad)\n",
    "    \n",
    "    def __mul__(self, other):\n",
    "        y = self.val*other.val\n",
    "        local_grad = ((self, other.val), (other, self.val))\n",
    "        return Var(y, local_grad)\n",
    "    \n",
    "    def __sub__(self, other):\n",
    "        y = self.val - other.val\n",
    "        local_grad = ((self, 1), (other, -1))       \n",
    "        return Var(y, local_grad)\n",
    "    \n",
    "    \n",
    "def get_grads(var):\n",
    "    grad = defaultdict(lambda:0)\n",
    "    \n",
    "    def compute_grad(var, path):\n",
    "        for child_var, loc_grad in var.local_grad:\n",
    "            val_path_child = path * loc_grad\n",
    "            grad[child_var] += val_path_child\n",
    "            compute_grad(child_var,val_path_child)   \n",
    "    \n",
    "    compute_grad(var, path=1)\n",
    "    \n",
    "    return grad\n",
    "    \n",
    "    \n",
    "    \n",
    "    \n",
    "   \n",
    "        \n",
    "        "
   ]
  },
  {
   "cell_type": "code",
   "execution_count": 18,
   "metadata": {},
   "outputs": [
    {
     "name": "stdout",
     "output_type": "stream",
     "text": [
      "AD of addition: 22\n",
      "AD of subtraction: 10\n"
     ]
    }
   ],
   "source": [
    "a = Var(8)\n",
    "b = Var(6)\n",
    "\n",
    "## AD for Addition \n",
    "\n",
    "c = a + b\n",
    "d = a*c\n",
    "\n",
    "grad = get_grads(d)\n",
    "\n",
    "print(f\"AD of addition: {grad[a]}\")\n",
    "\n",
    "## AD for Subtraction \n",
    "\n",
    "c = a - b\n",
    "d = a*c\n",
    "\n",
    "grad = get_grads(d)\n",
    "\n",
    "print(f\"AD of subtraction: {grad[a]}\")\n",
    "\n"
   ]
  },
  {
   "cell_type": "markdown",
   "metadata": {},
   "source": [
    "# Einstein Summation"
   ]
  },
  {
   "cell_type": "code",
   "execution_count": 2,
   "metadata": {
    "scrolled": true
   },
   "outputs": [
    {
     "data": {
      "text/plain": [
       "<torch._C.Generator at 0x7f82814290b0>"
      ]
     },
     "execution_count": 2,
     "metadata": {},
     "output_type": "execute_result"
    }
   ],
   "source": [
    "import torch\n",
    "torch.manual_seed(1234)"
   ]
  },
  {
   "cell_type": "code",
   "execution_count": 3,
   "metadata": {},
   "outputs": [
    {
     "data": {
      "text/plain": [
       "tensor([[9, 7, 3, 8],\n",
       "        [3, 4, 9, 7],\n",
       "        [3, 5, 5, 6]])"
      ]
     },
     "execution_count": 3,
     "metadata": {},
     "output_type": "execute_result"
    }
   ],
   "source": [
    "A=torch.randint(3, 10, (3, 4))\n",
    "B=torch.randint(3, 10, (4, 3))\n",
    "A\n",
    "\n"
   ]
  },
  {
   "cell_type": "code",
   "execution_count": 4,
   "metadata": {},
   "outputs": [
    {
     "data": {
      "text/plain": [
       "tensor([[4, 8, 3],\n",
       "        [6, 7, 4],\n",
       "        [9, 8, 6],\n",
       "        [4, 5, 8]])"
      ]
     },
     "execution_count": 4,
     "metadata": {},
     "output_type": "execute_result"
    }
   ],
   "source": [
    "B\n"
   ]
  },
  {
   "cell_type": "code",
   "execution_count": 32,
   "metadata": {},
   "outputs": [
    {
     "data": {
      "text/plain": [
       "tensor([[137, 185, 137],\n",
       "        [145, 159, 135],\n",
       "        [111, 129, 107]])"
      ]
     },
     "execution_count": 32,
     "metadata": {},
     "output_type": "execute_result"
    }
   ],
   "source": [
    "torch.matmul(A, B)"
   ]
  },
  {
   "cell_type": "code",
   "execution_count": 36,
   "metadata": {},
   "outputs": [
    {
     "data": {
      "text/plain": [
       "tensor([[137, 185, 137],\n",
       "        [145, 159, 135],\n",
       "        [111, 129, 107]])"
      ]
     },
     "execution_count": 36,
     "metadata": {},
     "output_type": "execute_result"
    }
   ],
   "source": [
    "C= torch.einsum(\"ij, jk -> ik\", A, B)\n",
    "C"
   ]
  },
  {
   "cell_type": "code",
   "execution_count": 5,
   "metadata": {},
   "outputs": [
    {
     "data": {
      "text/plain": [
       "tensor([[[9, 7, 3],\n",
       "         [8, 3, 4],\n",
       "         [9, 7, 3],\n",
       "         [5, 5, 6]],\n",
       "\n",
       "        [[4, 8, 3],\n",
       "         [6, 7, 4],\n",
       "         [9, 8, 6],\n",
       "         [4, 5, 8]],\n",
       "\n",
       "        [[7, 8, 8],\n",
       "         [9, 6, 4],\n",
       "         [7, 4, 5],\n",
       "         [7, 7, 6]]])"
      ]
     },
     "execution_count": 5,
     "metadata": {},
     "output_type": "execute_result"
    }
   ],
   "source": [
    "torch.manual_seed(1234)\n",
    "A=torch.randint(3, 10, (3, 4, 3))\n",
    "B=torch.randint(3, 10, (3, 3, 4))\n",
    "A\n",
    "\n"
   ]
  },
  {
   "cell_type": "code",
   "execution_count": 38,
   "metadata": {},
   "outputs": [
    {
     "data": {
      "text/plain": [
       "tensor([[[7, 5, 4, 4],\n",
       "         [5, 6, 4, 6],\n",
       "         [3, 7, 3, 8]],\n",
       "\n",
       "        [[8, 6, 8, 6],\n",
       "         [7, 9, 8, 4],\n",
       "         [8, 4, 8, 5]],\n",
       "\n",
       "        [[5, 9, 7, 4],\n",
       "         [5, 5, 7, 3],\n",
       "         [8, 7, 3, 7]]])"
      ]
     },
     "execution_count": 38,
     "metadata": {},
     "output_type": "execute_result"
    }
   ],
   "source": [
    "B"
   ]
  },
  {
   "cell_type": "code",
   "execution_count": 39,
   "metadata": {},
   "outputs": [
    {
     "data": {
      "text/plain": [
       "tensor([[[107, 108,  73, 102],\n",
       "         [ 83,  86,  56,  82],\n",
       "         [107, 108,  73, 102],\n",
       "         [ 78,  97,  58,  98]],\n",
       "\n",
       "        [[112, 108, 120,  71],\n",
       "         [129, 115, 136,  84],\n",
       "         [176, 150, 184, 116],\n",
       "         [131, 101, 136,  84]],\n",
       "\n",
       "        [[139, 159, 129, 108],\n",
       "         [107, 139, 117,  82],\n",
       "         [ 95, 118,  92,  75],\n",
       "         [118, 140, 116,  91]]])"
      ]
     },
     "execution_count": 39,
     "metadata": {},
     "output_type": "execute_result"
    }
   ],
   "source": [
    "C = torch.einsum(\"bij, bjk->bik\", A,B)\n",
    "C"
   ]
  },
  {
   "cell_type": "code",
   "execution_count": 40,
   "metadata": {},
   "outputs": [],
   "source": [
    "Ct = torch.matmul(A, B)"
   ]
  },
  {
   "cell_type": "code",
   "execution_count": 41,
   "metadata": {},
   "outputs": [
    {
     "data": {
      "text/plain": [
       "tensor([[[107, 108,  73, 102],\n",
       "         [ 83,  86,  56,  82],\n",
       "         [107, 108,  73, 102],\n",
       "         [ 78,  97,  58,  98]],\n",
       "\n",
       "        [[112, 108, 120,  71],\n",
       "         [129, 115, 136,  84],\n",
       "         [176, 150, 184, 116],\n",
       "         [131, 101, 136,  84]],\n",
       "\n",
       "        [[139, 159, 129, 108],\n",
       "         [107, 139, 117,  82],\n",
       "         [ 95, 118,  92,  75],\n",
       "         [118, 140, 116,  91]]])"
      ]
     },
     "execution_count": 41,
     "metadata": {},
     "output_type": "execute_result"
    }
   ],
   "source": [
    "Ct\n"
   ]
  },
  {
   "cell_type": "markdown",
   "metadata": {},
   "source": [
    "# Function Approximations"
   ]
  },
  {
   "cell_type": "markdown",
   "metadata": {},
   "source": [
    "### Parabolic Function"
   ]
  },
  {
   "cell_type": "code",
   "execution_count": 35,
   "metadata": {},
   "outputs": [
    {
     "name": "stdout",
     "output_type": "stream",
     "text": [
      "Collecting torchsummary\n",
      "  Downloading torchsummary-1.5.1-py3-none-any.whl (2.8 kB)\n",
      "Installing collected packages: torchsummary\n",
      "Successfully installed torchsummary-1.5.1\n",
      "\u001b[33mWARNING: You are using pip version 22.0.4; however, version 22.3.1 is available.\n",
      "You should consider upgrading via the '/Users/raj/opt/anaconda3/bin/python -m pip install --upgrade pip' command.\u001b[0m\u001b[33m\n",
      "\u001b[0m"
     ]
    }
   ],
   "source": [
    "!pip install torchsummary"
   ]
  },
  {
   "cell_type": "code",
   "execution_count": 58,
   "metadata": {},
   "outputs": [
    {
     "data": {
      "image/png": "[encoded data removed]",
      "text/plain": [
       "<Figure size 576x288 with 1 Axes>"
      ]
     },
     "metadata": {
      "needs_background": "light"
     },
     "output_type": "display_data"
    }
   ],
   "source": [
    "import numpy as np\n",
    "import imageio\n",
    "import torch\n",
    "import torch.nn.functional as F\n",
    "import torch.utils.data as Data\n",
    "from torch.autograd import Variable\n",
    "from torch.optim import Adam, LBFGS, SGD\n",
    "from torch.utils.data import Dataset, DataLoader\n",
    "import matplotlib.pyplot as plt\n",
    "%matplotlib inline\n",
    "\n",
    "\n",
    "torch.manual_seed(1234)\n",
    " \n",
    "N_p = 100\n",
    "### Input data\n",
    "x = torch.unsqueeze(torch.linspace(-1, 1, N_p), dim=1) \n",
    "# torch.unsqueeze: Returns a new tensor \n",
    "# with a dimension of size one inserted at the specified position.\n",
    "y = torch.square(x)\n",
    "# Add Random Noise\n",
    "y = y + 0.1*torch.rand(y.size())\n",
    "\n",
    "# Plot the data\n",
    "plt.figure(figsize=(8,4))\n",
    "\n",
    "x_plot, y_plot = x.numpy(), y.numpy()\n",
    "plt.scatter(x_plot, y_plot, color=\"red\")\n",
    "plt.xlabel(\"x\")\n",
    "plt.ylabel(\"y\")\n",
    "plt.show(\"Data for Regression Analysis\")\n",
    "plt.show()\n",
    "\n",
    "\n",
    "\n",
    "\n",
    "\n"
   ]
  },
  {
   "cell_type": "code",
   "execution_count": 59,
   "metadata": {},
   "outputs": [
    {
     "name": "stdout",
     "output_type": "stream",
     "text": [
      "----------------------------------------------------------------\n",
      "        Layer (type)               Output Shape         Param #\n",
      "================================================================\n",
      "            Linear-1              [-1, 100, 40]              80\n",
      "         LeakyReLU-2              [-1, 100, 40]               0\n",
      "            Linear-3               [-1, 100, 1]              41\n",
      "================================================================\n",
      "Total params: 121\n",
      "Trainable params: 121\n",
      "Non-trainable params: 0\n",
      "----------------------------------------------------------------\n",
      "Input size (MB): 0.00\n",
      "Forward/backward pass size (MB): 0.06\n",
      "Params size (MB): 0.00\n",
      "Estimated Total Size (MB): 0.06\n",
      "----------------------------------------------------------------\n",
      "Doing Iterations: 0 and Loss: 0.3845670223236084\n",
      "Doing Iterations: 50 and Loss: 0.001984823029488325\n",
      "Doing Iterations: 100 and Loss: 0.0008168928907252848\n",
      "Doing Iterations: 150 and Loss: 0.0007374898414127529\n"
     ]
    },
    {
     "data": {
      "image/png": "[encoded data removed]",
      "text/plain": [
       "<Figure size 1080x720 with 1 Axes>"
      ]
     },
     "metadata": {
      "needs_background": "light"
     },
     "output_type": "display_data"
    }
   ],
   "source": [
    "import numpy as np\n",
    "import imageio\n",
    "import torch\n",
    "import torch.nn.functional as F\n",
    "import torch.utils.data as Data\n",
    "from torch.autograd import Variable\n",
    "from torch.optim import Adam, LBFGS, SGD\n",
    "import matplotlib.pyplot as plt\n",
    "%matplotlib inline\n",
    "from torchsummary import summary\n",
    "\n",
    "## Set Seed\n",
    "torch.manual_seed(1234) \n",
    "\n",
    "### Input data\n",
    "x = torch.unsqueeze(torch.linspace(-1, 1, 100), dim=1)\n",
    "# torch.unsqueeze: Returns a new tensor \n",
    "# with a dimension of size one inserted at the specified position.\n",
    "\n",
    "y = torch.square(x)\n",
    "# Add Random Noise\n",
    "y = y + 0.1*torch.rand(y.size())\n",
    "# Convert x and y to tracked variables\n",
    "in_dim = 1\n",
    "out_dim = 1\n",
    "Net = torch.nn.Sequential(\n",
    "      torch.nn.Linear(in_dim, 40),\n",
    "      torch.nn.LeakyReLU(),\n",
    "      torch.nn.Linear(40, out_dim))\n",
    "\n",
    "summary(Net, (100, 1))\n",
    "\n",
    "# def init_weights(m):\n",
    "#     if isinstance(m, torch.nn.Linear):\n",
    "#         torch.nn.init.xavier_uniform(m.weight)\n",
    "#         m.bias.data.fill_(0.00)\n",
    "        \n",
    "# Net.apply(init_weights)\n",
    "\n",
    "# for name, params in Net.named_parameters():\n",
    "#     if params.requires_grad:\n",
    "#         print(f\"name: {name}\")\n",
    "#         print(f\"Params: {params}\")\n",
    "\n",
    "\n",
    "optimizer = torch.optim.Adam(Net.parameters(), lr = 0.01)\n",
    "loss_function = torch.nn.MSELoss()\n",
    "\n",
    "image_list = []\n",
    "Niter = 150 + 1\n",
    "\n",
    "fig, ax = plt.subplots(figsize=(15,10))\n",
    "\n",
    "for it in range(Niter):\n",
    "    y_pred = Net(x)\n",
    "    loss = loss_function(y_pred, y)\n",
    "    optimizer.zero_grad()\n",
    "    loss.backward()\n",
    "    optimizer.step()\n",
    "    if it % 50 == 0:\n",
    "        print(f\"Doing Iterations: {it} and Loss: {loss}\")\n",
    "    plt.cla()\n",
    "    ax.set_xlabel('x', fontsize=32)\n",
    "    ax.set_ylabel('y Predictied', fontsize=32)\n",
    "    ax.set_xlim(-1.5, 1.5)\n",
    "    ax.set_ylim(-0.5, 1.5)\n",
    "    ax.scatter(x_plot, y_plot, color = \"red\")\n",
    "    ax.plot(x_plot, y_pred.data.numpy(), 'k-', lw=4)\n",
    "    ax.text(-0.5, 1.3, 'It = %d,' %it, fontdict={'size': 22, 'color':  'black'})\n",
    "    ax.text(-0.1, 1.3, 'Loss = %.6f' % loss.data.numpy(),\n",
    "            fontdict={'size': 22, 'color':  'black'})\n",
    "\n",
    "    fig.canvas.draw()      \n",
    "    image = np.frombuffer(fig.canvas.tostring_rgb(), dtype='uint8')\n",
    "    image  = image.reshape(fig.canvas.get_width_height()[::-1] + (3,))\n",
    "\n",
    "    image_list.append(image)\n",
    "    \n",
    "   \n",
    "\n",
    "imageio.mimsave('./Parabolic_regression_1.gif', image_list, fps=5)\n",
    "    \n",
    "\n"
   ]
  },
  {
   "cell_type": "markdown",
   "metadata": {},
   "source": [
    "### Sin Function"
   ]
  },
  {
   "cell_type": "code",
   "execution_count": 61,
   "metadata": {},
   "outputs": [
    {
     "data": {
      "image/png": "[encoded data removed]",
      "text/plain": [
       "<Figure size 576x288 with 1 Axes>"
      ]
     },
     "metadata": {
      "needs_background": "light"
     },
     "output_type": "display_data"
    }
   ],
   "source": [
    "import numpy as np\n",
    "import imageio\n",
    "import torch\n",
    "import torch.nn.functional as F\n",
    "import torch.utils.data as Data\n",
    "from torch.autograd import Variable\n",
    "import matplotlib.pyplot as plt\n",
    "%matplotlib inline\n",
    "torch.manual_seed(1234) \n",
    "\n",
    "### Input data\n",
    "x = torch.unsqueeze(torch.linspace(-6, 6, 100), dim=1) \n",
    "# torch.unsqueeze: Returns a new tensor \n",
    "# with a dimension of size one inserted at the specified position.\n",
    "y = torch.sin(x)\n",
    "# Add Random Noise\n",
    "y = y + 0.30*torch.rand(y.size())\n",
    "\n",
    "# Plot the data\n",
    "plt.figure(figsize=(8,4))\n",
    "\n",
    "x_plot, y_plot = x.numpy(), y.numpy()\n",
    "plt.scatter(x_plot, y_plot, color=\"red\")\n",
    "plt.xlabel(\"x\")\n",
    "plt.ylabel(\"y\")\n",
    "plt.show(\"Data for Regression Analysis\")\n",
    "plt.show()\n"
   ]
  },
  {
   "cell_type": "code",
   "execution_count": 62,
   "metadata": {},
   "outputs": [
    {
     "name": "stdout",
     "output_type": "stream",
     "text": [
      "Doing Iterations: 0 and Loss: 0.8034062385559082\n",
      "Doing Iterations: 50 and Loss: 0.11373569816350937\n",
      "Doing Iterations: 100 and Loss: 0.10786444693803787\n",
      "Doing Iterations: 150 and Loss: 0.1027265265583992\n",
      "Doing Iterations: 200 and Loss: 0.09231912344694138\n",
      "Doing Iterations: 250 and Loss: 0.07583818584680557\n",
      "Doing Iterations: 300 and Loss: 0.05385998263955116\n",
      "Doing Iterations: 350 and Loss: 0.03373623639345169\n",
      "Doing Iterations: 400 and Loss: 0.019916106015443802\n",
      "Doing Iterations: 450 and Loss: 0.01475592702627182\n",
      "Doing Iterations: 500 and Loss: 0.01173159759491682\n",
      "Doing Iterations: 550 and Loss: 0.009939510375261307\n",
      "Doing Iterations: 600 and Loss: 0.011952796950936317\n",
      "Doing Iterations: 650 and Loss: 0.008818307891488075\n",
      "Doing Iterations: 700 and Loss: 0.007790905889123678\n",
      "Doing Iterations: 750 and Loss: 0.011379826813936234\n",
      "Doing Iterations: 800 and Loss: 0.007007220759987831\n",
      "Doing Iterations: 850 and Loss: 0.006975743919610977\n",
      "Doing Iterations: 900 and Loss: 0.006732481066137552\n",
      "Doing Iterations: 950 and Loss: 0.006685552652925253\n",
      "Doing Iterations: 1000 and Loss: 0.0061960043385624886\n",
      "Doing Iterations: 1050 and Loss: 0.006176406517624855\n",
      "Doing Iterations: 1100 and Loss: 0.006567387375980616\n",
      "Doing Iterations: 1150 and Loss: 0.006738581229001284\n",
      "Doing Iterations: 1200 and Loss: 0.008428242988884449\n",
      "Doing Iterations: 1250 and Loss: 0.0057029868476092815\n",
      "Doing Iterations: 1300 and Loss: 0.005616042762994766\n",
      "Doing Iterations: 1350 and Loss: 0.005884760990738869\n",
      "Doing Iterations: 1400 and Loss: 0.00550817372277379\n",
      "Doing Iterations: 1450 and Loss: 0.005789715796709061\n",
      "Doing Iterations: 1500 and Loss: 0.0065698446705937386\n"
     ]
    },
    {
     "data": {
      "image/png": "[encoded data removed]",
      "text/plain": [
       "<Figure size 1080x720 with 1 Axes>"
      ]
     },
     "metadata": {
      "needs_background": "light"
     },
     "output_type": "display_data"
    }
   ],
   "source": [
    "Net = torch.nn.Sequential(\n",
    "      torch.nn.Linear(1, 100),\n",
    "      torch.nn.LeakyReLU(),\n",
    "      torch.nn.Linear(100, 1))\n",
    "\n",
    "optimizer = torch.optim.Adam(Net.parameters(), lr = 0.01)\n",
    "loss_function = torch.nn.MSELoss()\n",
    "\n",
    "image_list = []\n",
    "Niter = 1500 + 1\n",
    "\n",
    "fig, ax = plt.subplots(figsize=(15,10))\n",
    "\n",
    "for it in range(Niter):\n",
    "    y_pred = Net(x)\n",
    "    loss = loss_function(y_pred, y)  # Notice the order: NN Pred first and then actual value\n",
    "    optimizer.zero_grad()    # Zero Out the gradient\n",
    "    loss.backward()\n",
    "    optimizer.step()\n",
    "    if it % 50 == 0:\n",
    "        print(f\"Doing Iterations: {it} and Loss: {loss}\")\n",
    "    plt.cla()\n",
    "    ax.set_xlabel('x', fontsize=32)\n",
    "    ax.set_ylabel('y Predictied', fontsize=32)\n",
    "    ax.set_xlim(-6, 6)\n",
    "    ax.set_ylim(-1.8, 1.8)\n",
    "    ax.scatter(x_plot, y_plot, color = \"red\")\n",
    "    ax.plot(x_plot, y_pred.data.numpy(), 'k-', lw=4)\n",
    "    ax.text(0, 1.3, 'It = %d,' %it, fontdict={'size': 22, 'color':  'black'})\n",
    "    ax.text(2, 1.3, 'Loss = %.6f' % loss.data.numpy(),\n",
    "            fontdict={'size': 22, 'color':  'black'})\n",
    "\n",
    "    fig.canvas.draw()      \n",
    "    image = np.frombuffer(fig.canvas.tostring_rgb(), dtype='uint8')\n",
    "    image  = image.reshape(fig.canvas.get_width_height()[::-1] + (3,))\n",
    "\n",
    "    image_list.append(image)    \n",
    "   \n",
    "imageio.mimsave('./Sin_Regression_2.gif', image_list, fps=20)"
   ]
  },
  {
   "cell_type": "markdown",
   "metadata": {},
   "source": [
    "### Customizing Function"
   ]
  },
  {
   "cell_type": "code",
   "execution_count": 66,
   "metadata": {},
   "outputs": [],
   "source": [
    "import torch\n",
    "import torch.nn as nn \n",
    "from torch.nn.parameter import Parameter \n",
    "import numpy as np\n",
    "import matplotlib.pyplot as plt\n",
    "\n",
    "'''\n",
    "clu = x * sigmoid(x) = (1/ (1 + exp(-x)))\n",
    "'''\n",
    "\n",
    "\n",
    "def caf(x):\n",
    "    return x * (1.0/(1.0 + torch.exp(-x)))"
   ]
  },
  {
   "cell_type": "code",
   "execution_count": 68,
   "metadata": {},
   "outputs": [
    {
     "data": {
      "text/plain": [
       "[<matplotlib.lines.Line2D at 0x7f981705ac70>]"
      ]
     },
     "execution_count": 68,
     "metadata": {},
     "output_type": "execute_result"
    },
    {
     "data": {
      "image/png": "[encoded data removed]",
      "text/plain": [
       "<Figure size 432x288 with 1 Axes>"
      ]
     },
     "metadata": {
      "needs_background": "light"
     },
     "output_type": "display_data"
    }
   ],
   "source": [
    "x = torch.linspace(-10, 10, 100).view((-1, 1))\n",
    "y = caf(x)\n",
    "plt.plot(x, y, \"-r\")"
   ]
  },
  {
   "cell_type": "code",
   "execution_count": 69,
   "metadata": {},
   "outputs": [
    {
     "data": {
      "text/plain": [
       "[<matplotlib.lines.Line2D at 0x7f9816fdec40>]"
      ]
     },
     "execution_count": 69,
     "metadata": {},
     "output_type": "execute_result"
    },
    {
     "data": {
      "image/png": "[encoded data removed]",
      "text/plain": [
       "<Figure size 432x288 with 1 Axes>"
      ]
     },
     "metadata": {
      "needs_background": "light"
     },
     "output_type": "display_data"
    }
   ],
   "source": [
    "class CAF(nn.Module):\n",
    "    \n",
    "    def __init__(self):\n",
    "        super().__init__()       \n",
    "    \n",
    "    def forward(self, x):\n",
    "        return caf(x)\n",
    "    \n",
    "custom_af = CAF()\n",
    "\n",
    "Net = torch.nn.Sequential(\n",
    "     CAF()\n",
    "     )\n",
    "\n",
    "y = Net(x)\n",
    "\n",
    "plt.plot(y.detach().numpy())"
   ]
  },
  {
   "cell_type": "code",
   "execution_count": 73,
   "metadata": {},
   "outputs": [
    {
     "name": "stdout",
     "output_type": "stream",
     "text": [
      "name: Linear-1.weight\n",
      " Shape: torch.Size([100, 1])\n",
      "name: Linear-1.bias\n",
      " Shape: torch.Size([100])\n",
      "name: Customized AF.a\n",
      " Shape: torch.Size([1])\n",
      "name: Linear-2.weight\n",
      " Shape: torch.Size([1, 100])\n",
      "name: Linear-2.bias\n",
      " Shape: torch.Size([1])\n"
     ]
    },
    {
     "data": {
      "text/plain": [
       "[<matplotlib.lines.Line2D at 0x7f98cfb3ee50>]"
      ]
     },
     "execution_count": 73,
     "metadata": {},
     "output_type": "execute_result"
    },
    {
     "data": {
      "image/png": "[encoded data removed]",
      "text/plain": [
       "<Figure size 432x288 with 1 Axes>"
      ]
     },
     "metadata": {
      "needs_background": "light"
     },
     "output_type": "display_data"
    }
   ],
   "source": [
    "from torchsummary import summary\n",
    "\n",
    "\n",
    "class CAF(nn.Module):\n",
    "    def __init__(self):\n",
    "        super().__init__()\n",
    "        self.a = nn.Parameter(torch.Tensor([0.1]), requires_grad=True)\n",
    "        self.N = 10.0\n",
    "    \n",
    "    def forward(self, x):\n",
    "        return  self.a * caf(x)\n",
    "    \n",
    "custom_af = CAF()\n",
    "\n",
    "Net = torch.nn.Sequential()\n",
    "Net.add_module(\"Linear-1\", torch.nn.Linear(1, 100))\n",
    "Net.add_module(\"Customized AF\",  CAF())\n",
    "Net.add_module(\"Linear-2\",   torch.nn.Linear(100, 1))\n",
    "y = Net(x)\n",
    "\n",
    "for name, params in Net.named_parameters():\n",
    "    if params.requires_grad:\n",
    "        print(f\"name: {name}\")\n",
    "        print(f\" Shape: {params.size()}\")\n",
    "\n",
    "plt.plot(y.detach().numpy())"
   ]
  },
  {
   "cell_type": "code",
   "execution_count": null,
   "metadata": {},
   "outputs": [],
   "source": []
  }
 ],
 "metadata": {
  "kernelspec": {
   "display_name": "Python 3",
   "language": "python",
   "name": "python3"
  },
  "language_info": {
   "codemirror_mode": {
    "name": "ipython",
    "version": 3
   },
   "file_extension": ".py",
   "mimetype": "text/x-python",
   "name": "python",
   "nbconvert_exporter": "python",
   "pygments_lexer": "ipython3",
   "version": "3.8.8"
  }
 },
 "nbformat": 4,
 "nbformat_minor": 4
}

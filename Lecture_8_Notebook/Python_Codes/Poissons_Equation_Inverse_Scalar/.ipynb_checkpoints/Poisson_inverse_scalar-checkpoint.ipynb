{
 "cells": [
  {
   "cell_type": "markdown",
   "id": "05e885a1",
   "metadata": {},
   "source": [
    "## Poisson equation with constant coefficient\n",
    "The Poisson equation on a unit disk with zero Dirichlet boundary condition can be written as $- \\nabla \\cdot (c\\nabla  u) = 1$  in $\\Omega$, $u=0$ on $\\partial \\Omega$ , where $\\Omega$  is the unit disk. The exact solution when  is\n",
    "$$\n",
    "u(x,y)= \\frac{1-x^2-y^2}{4}\n",
    "$$\n",
    "\n",
    "\n",
    "Here, objective is to compute the coefficient $c$ using PINN and we assume $c$ is scalar."
   ]
  },
  {
   "cell_type": "code",
   "execution_count": 2,
   "id": "86539b01",
   "metadata": {},
   "outputs": [],
   "source": [
    "## Import the required modules\n",
    "import torch\n",
    "import torch.nn as nn\n",
    "import numpy as np\n",
    "import matplotlib.pyplot as plt"
   ]
  },
  {
   "cell_type": "code",
   "execution_count": 3,
   "id": "6d784056",
   "metadata": {},
   "outputs": [
    {
     "data": {
      "image/png": "[encoded data removed]",
      "text/plain": [
       "<Figure size 432x288 with 1 Axes>"
      ]
     },
     "metadata": {
      "needs_background": "light"
     },
     "output_type": "display_data"
    }
   ],
   "source": [
    "## Problem description\n",
    "r = 1\n",
    "theta = np.linspace(0, 2*np.pi, 100)\n",
    "x = r*np.cos(theta)\n",
    "y = r*np.sin(theta)\n",
    "plt.plot(x, y, \"-b\", lw=1.5)\n",
    "plt.axis(\"equal\");"
   ]
  },
  {
   "cell_type": "code",
   "execution_count": 4,
   "id": "e126d832",
   "metadata": {},
   "outputs": [],
   "source": [
    "def generate_collocation_points(radius, num_samples):\n",
    "    r = radius * np.sqrt(np.random.rand(num_samples, 1))\n",
    "    theta = np.random.uniform(0, 2 * np.pi, num_samples)\n",
    "    x = r * np.cos(theta).reshape(-1, 1)\n",
    "    y = r * np.sin(theta).reshape(-1, 1)    \n",
    "    xy = np.concatenate((x, y), axis=1)\n",
    "    return xy\n",
    "\n",
    "def generate_boundary_points(radius, num_samples):\n",
    "    theta = np.linspace(0, 2 * np.pi, num_samples)\n",
    "    x = r * np.cos(theta).reshape(-1, 1)\n",
    "    y = r * np.sin(theta).reshape(-1, 1)\n",
    "    xy = np.concatenate((x, y), axis=1)\n",
    "    return xy\n",
    "\n",
    "def analytical_sol(xy):\n",
    "    u = (1/4.0)*(1 - xy[:, 0]*xy[:,0] - xy[:, 1]* xy[:, 1])\n",
    "    u = u.reshape(-1, 1)\n",
    "    return u\n",
    "\n",
    "\n",
    "def generate_validation_data(radius, num_samples):\n",
    "    r = radius * np.sqrt(np.random.rand(num_samples, 1))\n",
    "    theta = np.random.uniform(0, 2 * np.pi, num_samples)\n",
    "    x = r * np.cos(theta).reshape(-1, 1)\n",
    "    y = r * np.sin(theta).reshape(-1, 1)\n",
    "    xy = np.concatentae((x, y), axis=1)\n",
    "    return xy\n",
    "    \n",
    "\n"
   ]
  },
  {
   "cell_type": "code",
   "execution_count": 11,
   "id": "aabc387f",
   "metadata": {},
   "outputs": [],
   "source": [
    "class PINN(nn.Module):\n",
    "    def __init__(self, input_size, num_neurons, output_size):\n",
    "        super(PINN, self).__init__()\n",
    "        self.c = nn.Parameter(torch.tensor(0.5))\n",
    "        self.fc1 = nn.Linear(input_size, num_neurons)\n",
    "        self.activation_1 = nn.Tanh()\n",
    "        self.fc2 = nn.Linear(num_neurons, num_neurons)\n",
    "        self.activation_2 = nn.Tanh()\n",
    "        self.fc3 = nn.Linear(num_neurons, output_size)\n",
    "        \n",
    "    def get_parameter(self):\n",
    "        return self.c\n",
    "    \n",
    "\n",
    "    def forward(self, x):\n",
    "        x = self.fc1(x)\n",
    "        x = self.activation_1(x)\n",
    "        x = self.fc2(x)\n",
    "        x = self.activation_2(x)\n",
    "        x = self.fc3(x)\n",
    "        return x\n",
    "    \n",
    "    \n",
    "\n",
    "def net_f(model, xy_f):\n",
    "    u = model(xy_f)\n",
    "    grad_u = torch.autograd.grad(u, xy_f, grad_outputs=torch.ones_like(u),\n",
    "                                 create_graph=True)[0]\n",
    "    u_xx = torch.autograd.grad(model.get_parameter() * grad_u[:, 0], xy_f, grad_outputs=torch.ones_like(grad_u[:, 0]),\n",
    "                               create_graph=True)[0][:, 0]\n",
    "    u_yy = torch.autograd.grad(model.get_parameter()*grad_u[:, 1], xy_f, grad_outputs=torch.ones_like(grad_u[:, 1]),\n",
    "                               create_graph=True)[0][:, 1]\n",
    "    return u_xx + u_yy + 1.0\n",
    "\n",
    "def net_d(model, x_d):\n",
    "    u = model(x_d)\n",
    "    return u\n",
    "\n",
    "def loss_fn(model, xy_f, xy_d, u_d):\n",
    "    f = net_f(model, xy_f)\n",
    "    d = net_d(model, xy_d)\n",
    "    loss_f = (f**2).mean() \n",
    "    loss_d = ((d - u_d)**2).mean()\n",
    "    loss = loss_d + loss_f\n",
    "    return loss\n",
    "\n",
    "    \n",
    "    "
   ]
  },
  {
   "cell_type": "code",
   "execution_count": 12,
   "id": "bcd58c45",
   "metadata": {},
   "outputs": [
    {
     "name": "stdout",
     "output_type": "stream",
     "text": [
      "Epoch 1/1500, Loss: 0.98544323 and C: 0.5009999871253967\n",
      "Epoch 101/1500, Loss: 0.08644616 and C: 0.6015181541442871\n",
      "Epoch 201/1500, Loss: 0.00850054 and C: 0.6287796497344971\n",
      "Epoch 301/1500, Loss: 0.00247679 and C: 0.6391665935516357\n",
      "Epoch 401/1500, Loss: 0.00202342 and C: 0.6459879875183105\n",
      "Epoch 501/1500, Loss: 0.00177016 and C: 0.6528747081756592\n",
      "Epoch 601/1500, Loss: 0.00158477 and C: 0.6599847674369812\n",
      "Epoch 701/1500, Loss: 0.00143201 and C: 0.667270302772522\n",
      "Epoch 801/1500, Loss: 0.00129799 and C: 0.6746878027915955\n",
      "Epoch 901/1500, Loss: 0.00117855 and C: 0.6821986436843872\n",
      "Epoch 1001/1500, Loss: 0.00107290 and C: 0.6897685527801514\n",
      "Epoch 1101/1500, Loss: 0.00098019 and C: 0.6973718404769897\n",
      "Epoch 1201/1500, Loss: 0.00089883 and C: 0.7049921751022339\n",
      "Epoch 1301/1500, Loss: 0.00082680 and C: 0.7126203179359436\n",
      "Epoch 1401/1500, Loss: 0.00076216 and C: 0.7202497124671936\n"
     ]
    }
   ],
   "source": [
    "if __name__==\"__main__\":\n",
    "    r =1.0\n",
    "    num_collocation_points = 1000\n",
    "    num_boundary_points = 100\n",
    "    num_data = 50\n",
    "    \n",
    "    # Initialize Collocation Points\n",
    "    xy_f = torch.tensor(generate_collocation_points(r, num_collocation_points), requires_grad=True, \n",
    "                        dtype=torch.float32)\n",
    "  \n",
    "    \n",
    "    # Initialize boundary points\n",
    "    xy_b = torch.tensor(generate_boundary_points(r, num_boundary_points), dtype=torch.float32)\n",
    "    u_b = torch.zeros((xy_b.size(0), 1), dtype=torch.float32)\n",
    "    \n",
    "    # Initialize data values\n",
    "    xy_d = generate_collocation_points(r, num_data)\n",
    "    u_d = analytical_sol(xy_d)\n",
    "    xy_d = torch.tensor(xy_d, dtype=torch.float32)\n",
    "    u_d = torch.tensor(u_d, dtype=torch.float32)\n",
    "#     plt.scatter(xy_d[:, 0], xy_d[:,1], c=u_d)\n",
    "#     plt.show()\n",
    "    \n",
    "    # Concatenate boundary and interior data points\n",
    "    xy_data = torch.concatenate((xy_b, xy_d), axis=0)\n",
    "    u_data = torch.concatenate((u_b, u_d), axis=0)\n",
    "    nIters = 1500\n",
    "    d_in = 2\n",
    "    num_neurons = 40\n",
    "    d_out = 1\n",
    "    lr = 1e-03\n",
    "    model = PINN(d_in, num_neurons, d_out)\n",
    "    optimizer = torch.optim.Adam(model.parameters(), lr = lr)\n",
    "    loss_history = []\n",
    "    c_history = []\n",
    "    \n",
    "\n",
    "    \n",
    "    # Start Training\n",
    "    \n",
    "    for it in range(0, nIters):\n",
    "        optimizer.zero_grad()\n",
    "        loss = loss_fn(model, xy_f, xy_d, u_d)\n",
    "        loss.backward()\n",
    "        optimizer.step()\n",
    "        if it % 100 == 0:\n",
    "            c = model.get_parameter().detach().cpu().numpy()\n",
    "            print(f\"Epoch {it+1}/{nIters}, Loss: {loss:.8f} and C: {c}\")\n",
    "            #c_history.append(c)\n",
    "            #loss_history.append(loss.detach().cpu().numpy())\n",
    "\n",
    "      \n"
   ]
  },
  {
   "cell_type": "code",
   "execution_count": 7,
   "id": "f1674aa5",
   "metadata": {},
   "outputs": [],
   "source": [
    "## Postprocess the output\n",
    "def prediction(model, xy):\n",
    "    u_val =  model(xy)\n",
    "    return u_val.detach().cpu().numpy()\n",
    "\n",
    "\n",
    "def save_model(trained_model):\n",
    "    torch.save(trained_model, \"model.pth\")\n",
    "    pass\n",
    "\n",
    "def load_model(model_name):\n",
    "    torch.load(model_name, \"model.pth\")"
   ]
  },
  {
   "cell_type": "code",
   "execution_count": 13,
   "id": "91b14cf7",
   "metadata": {},
   "outputs": [],
   "source": [
    "#Validation datapoints\n",
    "num_val_dat = 1000\n",
    "xy_val = generate_collocation_points(r, num_data)\n",
    "u_true = analytical_sol(xy_val)\n",
    "\n",
    "xy_val = torch.tensor(xy_d, dtype=torch.float32)\n",
    "u_true = torch.tensor(u_true, dtype=torch.float32)\n",
    "\n",
    "    # Validation data values\n",
    "\n",
    "    "
   ]
  },
  {
   "cell_type": "code",
   "execution_count": 8,
   "id": "d666aabd",
   "metadata": {},
   "outputs": [
    {
     "data": {
      "text/plain": [
       "tensor(0.0014, grad_fn=<AddBackward0>)"
      ]
     },
     "execution_count": 8,
     "metadata": {},
     "output_type": "execute_result"
    }
   ],
   "source": [
    "loss"
   ]
  },
  {
   "cell_type": "code",
   "execution_count": null,
   "id": "bbb20975",
   "metadata": {},
   "outputs": [],
   "source": []
  }
 ],
 "metadata": {
  "kernelspec": {
   "display_name": "Python 3",
   "language": "python",
   "name": "python3"
  },
  "language_info": {
   "codemirror_mode": {
    "name": "ipython",
    "version": 3
   },
   "file_extension": ".py",
   "mimetype": "text/x-python",
   "name": "python",
   "nbconvert_exporter": "python",
   "pygments_lexer": "ipython3",
   "version": "3.8.8"
  }
 },
 "nbformat": 4,
 "nbformat_minor": 5
}
